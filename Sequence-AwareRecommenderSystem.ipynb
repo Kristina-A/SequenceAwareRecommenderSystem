{
 "cells": [
  {
   "cell_type": "markdown",
   "metadata": {
    "collapsed": true
   },
   "source": [
    "Sequence-aware recommender system"
   ]
  },
  {
   "cell_type": "code",
   "execution_count": 1,
   "metadata": {},
   "outputs": [
    {
     "data": {
      "text/html": [
       "<div>\n",
       "<style scoped>\n",
       "    .dataframe tbody tr th:only-of-type {\n",
       "        vertical-align: middle;\n",
       "    }\n",
       "\n",
       "    .dataframe tbody tr th {\n",
       "        vertical-align: top;\n",
       "    }\n",
       "\n",
       "    .dataframe thead th {\n",
       "        text-align: right;\n",
       "    }\n",
       "</style>\n",
       "<table border=\"1\" class=\"dataframe\">\n",
       "  <thead>\n",
       "    <tr style=\"text-align: right;\">\n",
       "      <th></th>\n",
       "      <th>InvoiceNo</th>\n",
       "      <th>StockCode</th>\n",
       "      <th>Description</th>\n",
       "      <th>Quantity</th>\n",
       "      <th>InvoiceDate</th>\n",
       "      <th>UnitPrice</th>\n",
       "      <th>CustomerID</th>\n",
       "      <th>Country</th>\n",
       "    </tr>\n",
       "  </thead>\n",
       "  <tbody>\n",
       "    <tr>\n",
       "      <th>0</th>\n",
       "      <td>536365</td>\n",
       "      <td>85123A</td>\n",
       "      <td>WHITE HANGING HEART T-LIGHT HOLDER</td>\n",
       "      <td>6</td>\n",
       "      <td>2010-12-01 08:26:00</td>\n",
       "      <td>2.55</td>\n",
       "      <td>17850</td>\n",
       "      <td>United Kingdom</td>\n",
       "    </tr>\n",
       "    <tr>\n",
       "      <th>1</th>\n",
       "      <td>536365</td>\n",
       "      <td>71053</td>\n",
       "      <td>WHITE METAL LANTERN</td>\n",
       "      <td>6</td>\n",
       "      <td>2010-12-01 08:26:00</td>\n",
       "      <td>3.39</td>\n",
       "      <td>17850</td>\n",
       "      <td>United Kingdom</td>\n",
       "    </tr>\n",
       "    <tr>\n",
       "      <th>2</th>\n",
       "      <td>536365</td>\n",
       "      <td>84406B</td>\n",
       "      <td>CREAM CUPID HEARTS COAT HANGER</td>\n",
       "      <td>8</td>\n",
       "      <td>2010-12-01 08:26:00</td>\n",
       "      <td>2.75</td>\n",
       "      <td>17850</td>\n",
       "      <td>United Kingdom</td>\n",
       "    </tr>\n",
       "    <tr>\n",
       "      <th>3</th>\n",
       "      <td>536365</td>\n",
       "      <td>84029G</td>\n",
       "      <td>KNITTED UNION FLAG HOT WATER BOTTLE</td>\n",
       "      <td>6</td>\n",
       "      <td>2010-12-01 08:26:00</td>\n",
       "      <td>3.39</td>\n",
       "      <td>17850</td>\n",
       "      <td>United Kingdom</td>\n",
       "    </tr>\n",
       "    <tr>\n",
       "      <th>4</th>\n",
       "      <td>536365</td>\n",
       "      <td>84029E</td>\n",
       "      <td>RED WOOLLY HOTTIE WHITE HEART.</td>\n",
       "      <td>6</td>\n",
       "      <td>2010-12-01 08:26:00</td>\n",
       "      <td>3.39</td>\n",
       "      <td>17850</td>\n",
       "      <td>United Kingdom</td>\n",
       "    </tr>\n",
       "  </tbody>\n",
       "</table>\n",
       "</div>"
      ],
      "text/plain": [
       "  InvoiceNo StockCode                          Description Quantity  \\\n",
       "0    536365    85123A   WHITE HANGING HEART T-LIGHT HOLDER        6   \n",
       "1    536365     71053                  WHITE METAL LANTERN        6   \n",
       "2    536365    84406B       CREAM CUPID HEARTS COAT HANGER        8   \n",
       "3    536365    84029G  KNITTED UNION FLAG HOT WATER BOTTLE        6   \n",
       "4    536365    84029E       RED WOOLLY HOTTIE WHITE HEART.        6   \n",
       "\n",
       "          InvoiceDate UnitPrice CustomerID         Country  \n",
       "0 2010-12-01 08:26:00      2.55      17850  United Kingdom  \n",
       "1 2010-12-01 08:26:00      3.39      17850  United Kingdom  \n",
       "2 2010-12-01 08:26:00      2.75      17850  United Kingdom  \n",
       "3 2010-12-01 08:26:00      3.39      17850  United Kingdom  \n",
       "4 2010-12-01 08:26:00      3.39      17850  United Kingdom  "
      ]
     },
     "execution_count": 1,
     "metadata": {},
     "output_type": "execute_result"
    }
   ],
   "source": [
    "import numpy as np\n",
    "import warnings\n",
    "import pandas as pd\n",
    "from spmf import Spmf\n",
    "from gensim.models import Word2Vec\n",
    "from keras.optimizers import Adam\n",
    "from keras.models import Sequential\n",
    "from keras.layers import Dropout\n",
    "from keras.layers import Dense\n",
    "from keras.layers import LSTM\n",
    "from keras.utils import np_utils\n",
    "from matplotlib import pyplot as plt\n",
    "\n",
    "warnings.filterwarnings('ignore')\n",
    "columns = ['InvoiceNo', 'StockCode', 'Description', 'Quantity', 'InvoiceDate', \n",
    "                'UnitPrice', 'CustomerID', 'Country']\n",
    "data = pd.read_csv('OnlineRetail.csv', sep=',', names=columns, engine='python')\n",
    "data = data.drop(data.index[[0]])\n",
    "\n",
    "# remove missing values\n",
    "data = data[(data.Description.notnull()) & (data.Quantity.astype(int) > 0)]\n",
    "# transform column to datetime\n",
    "data['InvoiceDate'] = pd.to_datetime(data['InvoiceDate'])\n",
    "# reset row index\n",
    "data = data.reset_index(drop=True)\n",
    "\n",
    "data.head()"
   ]
  },
  {
   "cell_type": "markdown",
   "metadata": {},
   "source": [
    "Transform transactions into lists of items"
   ]
  },
  {
   "cell_type": "code",
   "execution_count": 2,
   "metadata": {},
   "outputs": [
    {
     "data": {
      "text/plain": [
       "['23544 21790 21791 22619',\n",
       " '23318 21136 23319 22809 22810 22739 22732 22141 22144 22142 23313 22910 23264 23265 23266 20668 21803 35471D 22952 23267 23101 23350 23351 23349 23352',\n",
       " '21888 22992 22561 23494',\n",
       " '47566 22693 22523 22522 21878 22568 22621 22865 22867 22652 23198 84987 84991 22938 23197',\n",
       " '22426 22962 22963 22227 22139 23147 16008 84347 82486 84510A 22753 22757 21380 15056BL 15056N 23031 23146 22411']"
      ]
     },
     "execution_count": 2,
     "metadata": {},
     "output_type": "execute_result"
    }
   ],
   "source": [
    "# filter transactions to get only transactions from the past month\n",
    "max_date = data['InvoiceDate'].max()\n",
    "filtered_data = data[(data.InvoiceDate <= max_date) & (data.InvoiceDate >= (max_date - pd.DateOffset(months=1)))]\n",
    "transactions_array = []\n",
    "transactions = filtered_data.groupby(['InvoiceNo'], as_index=False)['StockCode'].apply(list)\n",
    "for i in range(0, len(transactions)):\n",
    "    vals = ' '.join(transactions.values[i])\n",
    "    transactions_array.append(vals)\n",
    "\n",
    "transactions_array[:5]"
   ]
  },
  {
   "cell_type": "markdown",
   "metadata": {},
   "source": [
    "Method for getting recommendations from product's associations"
   ]
  },
  {
   "cell_type": "code",
   "execution_count": 3,
   "metadata": {},
   "outputs": [],
   "source": [
    "def recommend(recent_products, associations):\n",
    "    recommended = dict()\n",
    "    for p in recent_products:\n",
    "        for i in range(0, len(associations.pattern)):\n",
    "            if((p in associations.pattern.values[i]) and\n",
    "                    (associations.pattern.values[i].index(p) != (len(associations.pattern.values[i]) - 1))):\n",
    "                ind = associations.pattern.values[i].index(p)\n",
    "                if p not in recommended:\n",
    "                    recommended[p] = []\n",
    "                recommended[p].append([associations.pattern.values[i][ind + 1:], \n",
    "                                       associations.sup.values[i]])\n",
    "\n",
    "    return recommended"
   ]
  },
  {
   "cell_type": "markdown",
   "metadata": {},
   "source": [
    "Method for printing recommendations"
   ]
  },
  {
   "cell_type": "code",
   "execution_count": 4,
   "metadata": {},
   "outputs": [],
   "source": [
    "def print_recommendations(recommended, products_dict, n):\n",
    "    for r in recommended:\n",
    "        print(\"Frequently bought with \" + str(products_dict[r][0]) + \" :\\n\")\n",
    "        supports = dict()\n",
    "        for p in recommended[r]:\n",
    "            supports[tuple(p[0])] = p[1]\n",
    "        sorted_supports = sorted(supports.items(), key=lambda x: x[1], reverse=True)\n",
    "\n",
    "        if n > len(supports):\n",
    "            m = len(supports)\n",
    "        else:\n",
    "            m = n\n",
    "        \n",
    "        for i in range(0, m):\n",
    "            for y in sorted_supports[i][0]:\n",
    "                print(str(products_dict[y][0]) + '\\n')"
   ]
  },
  {
   "cell_type": "markdown",
   "metadata": {},
   "source": [
    "Using GSP algorithm to find associations between products"
   ]
  },
  {
   "cell_type": "code",
   "execution_count": 5,
   "metadata": {},
   "outputs": [
    {
     "name": "stdout",
     "output_type": "stream",
     "text": [
      ">/D:/Kristina/Documents/Master/BI/MLRecommenderSystem/spmf.jar\r\n",
      "Converting TEXT to SPMF format.\r\n",
      "Conversion completed.\r\n",
      "=============  Algorithm - STATISTICS =============\n",
      " Total time ~ 107036 ms\n",
      " Frequent sequences count : 484\n",
      " Max memory (mb):603.4980163574219\n",
      "===================================================\n",
      "\r\n",
      "Post-processing to show result in terms of string values.\r\n",
      "Post-processing completed.\r\n",
      "\n"
     ]
    },
    {
     "data": {
      "text/html": [
       "<div>\n",
       "<style scoped>\n",
       "    .dataframe tbody tr th:only-of-type {\n",
       "        vertical-align: middle;\n",
       "    }\n",
       "\n",
       "    .dataframe tbody tr th {\n",
       "        vertical-align: top;\n",
       "    }\n",
       "\n",
       "    .dataframe thead th {\n",
       "        text-align: right;\n",
       "    }\n",
       "</style>\n",
       "<table border=\"1\" class=\"dataframe\">\n",
       "  <thead>\n",
       "    <tr style=\"text-align: right;\">\n",
       "      <th></th>\n",
       "      <th>pattern</th>\n",
       "      <th>sup</th>\n",
       "    </tr>\n",
       "  </thead>\n",
       "  <tbody>\n",
       "    <tr>\n",
       "      <th>431</th>\n",
       "      <td>[21790, 21791]</td>\n",
       "      <td>60</td>\n",
       "    </tr>\n",
       "    <tr>\n",
       "      <th>432</th>\n",
       "      <td>[22141, 22144]</td>\n",
       "      <td>77</td>\n",
       "    </tr>\n",
       "    <tr>\n",
       "      <th>433</th>\n",
       "      <td>[22142, 22144]</td>\n",
       "      <td>60</td>\n",
       "    </tr>\n",
       "    <tr>\n",
       "      <th>434</th>\n",
       "      <td>[22086, 22144]</td>\n",
       "      <td>63</td>\n",
       "    </tr>\n",
       "    <tr>\n",
       "      <th>435</th>\n",
       "      <td>[22910, 22952]</td>\n",
       "      <td>62</td>\n",
       "    </tr>\n",
       "  </tbody>\n",
       "</table>\n",
       "</div>"
      ],
      "text/plain": [
       "            pattern  sup\n",
       "431  [21790, 21791]   60\n",
       "432  [22141, 22144]   77\n",
       "433  [22142, 22144]   60\n",
       "434  [22086, 22144]   63\n",
       "435  [22910, 22952]   62"
      ]
     },
     "execution_count": 5,
     "metadata": {},
     "output_type": "execute_result"
    }
   ],
   "source": [
    "result_GSP = Spmf(\"GSP\", input_direct=transactions_array, input_type=\"text\", arguments=[0.02],\n",
    "                  output_filename='GSP_output.txt',\n",
    "                  spmf_bin_location_dir='D:/Kristina/Documents/Master/BI/MLRecommenderSystem')\n",
    "result_GSP.run()\n",
    "df_GSP = result_GSP.to_pandas_dataframe(pickle=True)\n",
    "df_GSP = df_GSP[df_GSP.pattern.str.len() > 1]\n",
    "df_GSP.head()"
   ]
  },
  {
   "cell_type": "markdown",
   "metadata": {},
   "source": [
    "Recommending similar products to user based on his latest interactions"
   ]
  },
  {
   "cell_type": "code",
   "execution_count": 6,
   "metadata": {},
   "outputs": [
    {
     "data": {
      "text/html": [
       "<div>\n",
       "<style scoped>\n",
       "    .dataframe tbody tr th:only-of-type {\n",
       "        vertical-align: middle;\n",
       "    }\n",
       "\n",
       "    .dataframe tbody tr th {\n",
       "        vertical-align: top;\n",
       "    }\n",
       "\n",
       "    .dataframe thead th {\n",
       "        text-align: right;\n",
       "    }\n",
       "</style>\n",
       "<table border=\"1\" class=\"dataframe\">\n",
       "  <thead>\n",
       "    <tr style=\"text-align: right;\">\n",
       "      <th></th>\n",
       "      <th>pattern</th>\n",
       "      <th>sup</th>\n",
       "    </tr>\n",
       "  </thead>\n",
       "  <tbody>\n",
       "    <tr>\n",
       "      <th>434</th>\n",
       "      <td>[22086, 22144]</td>\n",
       "      <td>63</td>\n",
       "    </tr>\n",
       "    <tr>\n",
       "      <th>437</th>\n",
       "      <td>[22910, 22086]</td>\n",
       "      <td>80</td>\n",
       "    </tr>\n",
       "    <tr>\n",
       "      <th>438</th>\n",
       "      <td>[22086, 22910]</td>\n",
       "      <td>142</td>\n",
       "    </tr>\n",
       "    <tr>\n",
       "      <th>444</th>\n",
       "      <td>[22086, 22952]</td>\n",
       "      <td>70</td>\n",
       "    </tr>\n",
       "    <tr>\n",
       "      <th>449</th>\n",
       "      <td>[22086, 22865]</td>\n",
       "      <td>71</td>\n",
       "    </tr>\n",
       "  </tbody>\n",
       "</table>\n",
       "</div>"
      ],
      "text/plain": [
       "            pattern  sup\n",
       "434  [22086, 22144]   63\n",
       "437  [22910, 22086]   80\n",
       "438  [22086, 22910]  142\n",
       "444  [22086, 22952]   70\n",
       "449  [22086, 22865]   71"
      ]
     },
     "execution_count": 6,
     "metadata": {},
     "output_type": "execute_result"
    }
   ],
   "source": [
    "session = ['85123A', '22910', '22086', '22835', '23300']\n",
    "recent_products = session[-3:]\n",
    "\n",
    "# create product-ID and product-description dictionary\n",
    "products_dict = filtered_data.groupby('StockCode')['Description'].apply(list).to_dict()\n",
    "\n",
    "# get itemsets that contain products from current session\n",
    "filtered_GSP = df_GSP[df_GSP.pattern.map(lambda x: np.isin(x, recent_products).any())]\n",
    "\n",
    "recommended = recommend(recent_products, filtered_GSP)\n",
    "\n",
    "filtered_GSP.head()"
   ]
  },
  {
   "cell_type": "code",
   "execution_count": 7,
   "metadata": {},
   "outputs": [
    {
     "name": "stdout",
     "output_type": "stream",
     "text": [
      "Frequently bought with PAPER CHAIN KIT 50'S CHRISTMAS  :\n",
      "\n",
      "PAPER CHAIN KIT VINTAGE CHRISTMAS\n",
      "\n",
      "RABBIT NIGHT LIGHT\n",
      "\n",
      "GARDENERS KNEELING PAD KEEP CALM \n",
      "\n",
      "Frequently bought with HOT WATER BOTTLE I AM SO POORLY :\n",
      "\n",
      "HOT WATER BOTTLE KEEP CALM\n",
      "\n",
      "Frequently bought with GARDENERS KNEELING PAD CUP OF TEA  :\n",
      "\n",
      "GARDENERS KNEELING PAD KEEP CALM \n",
      "\n"
     ]
    }
   ],
   "source": [
    "print_recommendations(recommended, products_dict, 3)"
   ]
  },
  {
   "cell_type": "markdown",
   "metadata": {},
   "source": [
    "Using PrefixSpan algorithm to find associations between products"
   ]
  },
  {
   "cell_type": "code",
   "execution_count": 8,
   "metadata": {},
   "outputs": [
    {
     "name": "stdout",
     "output_type": "stream",
     "text": [
      ">/D:/Kristina/Documents/Master/BI/MLRecommenderSystem/spmf.jar\r\n",
      "Converting TEXT to SPMF format.\r\n",
      "Conversion completed.\r\n",
      "=============  PREFIXSPAN 0.99-2016 - STATISTICS =============\n",
      " Total time ~ 159 ms\n",
      " Frequent sequences count : 484\n",
      " Max memory (mb) : 70.27704620361328\n",
      " minsup = 59 sequences.\n",
      " Pattern count : 484\n",
      "===================================================\n",
      "\r\n",
      "Post-processing to show result in terms of string values.\r\n",
      "Post-processing completed.\r\n",
      "\n"
     ]
    },
    {
     "data": {
      "text/html": [
       "<div>\n",
       "<style scoped>\n",
       "    .dataframe tbody tr th:only-of-type {\n",
       "        vertical-align: middle;\n",
       "    }\n",
       "\n",
       "    .dataframe tbody tr th {\n",
       "        vertical-align: top;\n",
       "    }\n",
       "\n",
       "    .dataframe thead th {\n",
       "        text-align: right;\n",
       "    }\n",
       "</style>\n",
       "<table border=\"1\" class=\"dataframe\">\n",
       "  <thead>\n",
       "    <tr style=\"text-align: right;\">\n",
       "      <th></th>\n",
       "      <th>pattern</th>\n",
       "      <th>sup</th>\n",
       "    </tr>\n",
       "  </thead>\n",
       "  <tbody>\n",
       "    <tr>\n",
       "      <th>1</th>\n",
       "      <td>[21790, 21791]</td>\n",
       "      <td>60</td>\n",
       "    </tr>\n",
       "    <tr>\n",
       "      <th>10</th>\n",
       "      <td>[22141, 22144]</td>\n",
       "      <td>77</td>\n",
       "    </tr>\n",
       "    <tr>\n",
       "      <th>13</th>\n",
       "      <td>[22142, 22144]</td>\n",
       "      <td>60</td>\n",
       "    </tr>\n",
       "    <tr>\n",
       "      <th>16</th>\n",
       "      <td>[22910, 22952]</td>\n",
       "      <td>62</td>\n",
       "    </tr>\n",
       "    <tr>\n",
       "      <th>17</th>\n",
       "      <td>[22910, 23084]</td>\n",
       "      <td>79</td>\n",
       "    </tr>\n",
       "  </tbody>\n",
       "</table>\n",
       "</div>"
      ],
      "text/plain": [
       "           pattern  sup\n",
       "1   [21790, 21791]   60\n",
       "10  [22141, 22144]   77\n",
       "13  [22142, 22144]   60\n",
       "16  [22910, 22952]   62\n",
       "17  [22910, 23084]   79"
      ]
     },
     "execution_count": 8,
     "metadata": {},
     "output_type": "execute_result"
    }
   ],
   "source": [
    "result_PrefixSpan = Spmf(\"PrefixSpan\", input_direct=transactions_array, input_type=\"text\", arguments=[0.02],\n",
    "                         output_filename='PS_output.txt',\n",
    "                         spmf_bin_location_dir='D:/Kristina/Documents/Master/BI/MLRecommenderSystem')\n",
    "result_PrefixSpan.run()\n",
    "df_PrefixSpan = result_PrefixSpan.to_pandas_dataframe(pickle=True)\n",
    "df_PrefixSpan = df_PrefixSpan[df_PrefixSpan.pattern.str.len() > 1]\n",
    "df_PrefixSpan.head()"
   ]
  },
  {
   "cell_type": "code",
   "execution_count": 9,
   "metadata": {},
   "outputs": [
    {
     "data": {
      "text/html": [
       "<div>\n",
       "<style scoped>\n",
       "    .dataframe tbody tr th:only-of-type {\n",
       "        vertical-align: middle;\n",
       "    }\n",
       "\n",
       "    .dataframe tbody tr th {\n",
       "        vertical-align: top;\n",
       "    }\n",
       "\n",
       "    .dataframe thead th {\n",
       "        text-align: right;\n",
       "    }\n",
       "</style>\n",
       "<table border=\"1\" class=\"dataframe\">\n",
       "  <thead>\n",
       "    <tr style=\"text-align: right;\">\n",
       "      <th></th>\n",
       "      <th>pattern</th>\n",
       "      <th>sup</th>\n",
       "    </tr>\n",
       "  </thead>\n",
       "  <tbody>\n",
       "    <tr>\n",
       "      <th>18</th>\n",
       "      <td>[22910, 22086]</td>\n",
       "      <td>80</td>\n",
       "    </tr>\n",
       "    <tr>\n",
       "      <th>138</th>\n",
       "      <td>[22086, 22144]</td>\n",
       "      <td>63</td>\n",
       "    </tr>\n",
       "    <tr>\n",
       "      <th>139</th>\n",
       "      <td>[22086, 22910]</td>\n",
       "      <td>142</td>\n",
       "    </tr>\n",
       "    <tr>\n",
       "      <th>140</th>\n",
       "      <td>[22086, 22952]</td>\n",
       "      <td>70</td>\n",
       "    </tr>\n",
       "    <tr>\n",
       "      <th>141</th>\n",
       "      <td>[22086, 22865]</td>\n",
       "      <td>71</td>\n",
       "    </tr>\n",
       "  </tbody>\n",
       "</table>\n",
       "</div>"
      ],
      "text/plain": [
       "            pattern  sup\n",
       "18   [22910, 22086]   80\n",
       "138  [22086, 22144]   63\n",
       "139  [22086, 22910]  142\n",
       "140  [22086, 22952]   70\n",
       "141  [22086, 22865]   71"
      ]
     },
     "execution_count": 9,
     "metadata": {},
     "output_type": "execute_result"
    }
   ],
   "source": [
    "# get itemsets that contain products from current session\n",
    "filtered_PrefixSpan = df_PrefixSpan[df_PrefixSpan.pattern.map(lambda x: np.isin(x, recent_products).any())]\n",
    "\n",
    "recommended = recommend(recent_products, filtered_PrefixSpan)\n",
    "\n",
    "filtered_PrefixSpan.head()"
   ]
  },
  {
   "cell_type": "code",
   "execution_count": 10,
   "metadata": {},
   "outputs": [
    {
     "name": "stdout",
     "output_type": "stream",
     "text": [
      "Frequently bought with PAPER CHAIN KIT 50'S CHRISTMAS  :\n",
      "\n",
      "PAPER CHAIN KIT VINTAGE CHRISTMAS\n",
      "\n",
      "RABBIT NIGHT LIGHT\n",
      "\n",
      "GARDENERS KNEELING PAD KEEP CALM \n",
      "\n",
      "Frequently bought with HOT WATER BOTTLE I AM SO POORLY :\n",
      "\n",
      "HOT WATER BOTTLE KEEP CALM\n",
      "\n",
      "Frequently bought with GARDENERS KNEELING PAD CUP OF TEA  :\n",
      "\n",
      "GARDENERS KNEELING PAD KEEP CALM \n",
      "\n"
     ]
    }
   ],
   "source": [
    "print_recommendations(recommended, products_dict, 3)"
   ]
  },
  {
   "cell_type": "markdown",
   "metadata": {},
   "source": [
    "Using Prod2Vec for distributed product representation"
   ]
  },
  {
   "cell_type": "code",
   "execution_count": 11,
   "metadata": {},
   "outputs": [
    {
     "data": {
      "text/plain": [
       "[['85123A', '71053', '84406B', '84029G', '84029E', '22752', '21730'],\n",
       " ['22633', '22632'],\n",
       " ['84879',\n",
       "  '22745',\n",
       "  '22748',\n",
       "  '22749',\n",
       "  '22310',\n",
       "  '84969',\n",
       "  '22623',\n",
       "  '22622',\n",
       "  '21754',\n",
       "  '21755',\n",
       "  '21777',\n",
       "  '48187'],\n",
       " ['22960', '22913', '22912', '22914'],\n",
       " ['21756']]"
      ]
     },
     "execution_count": 11,
     "metadata": {},
     "output_type": "execute_result"
    }
   ],
   "source": [
    "transactions_array = []\n",
    "transactions = data.groupby(['InvoiceNo'], as_index=False)['StockCode'].apply(list)\n",
    "for i in range(0, len(transactions)):\n",
    "    transactions_array.append(transactions.values[i])\n",
    " \n",
    "transactions_array[:5]"
   ]
  },
  {
   "cell_type": "code",
   "execution_count": 12,
   "metadata": {},
   "outputs": [],
   "source": [
    "# train word2vec model\n",
    "model = Word2Vec(window=10, sg=1, hs=0,\n",
    "                 negative=10,\n",
    "                 alpha=0.03, min_alpha=0.0007,\n",
    "                 seed=14)\n",
    "\n",
    "model.build_vocab(transactions_array, progress_per=200)\n",
    "\n",
    "model.train(transactions_array, total_examples=model.corpus_count, epochs=10, report_delay=1)\n",
    "model.init_sims(replace=True)\n",
    "\n",
    "products = data[[\"StockCode\", \"Description\"]]\n",
    "\n",
    "# remove duplicates\n",
    "products.drop_duplicates(inplace=True, subset='StockCode', keep=\"last\")\n",
    "\n",
    "# create product-ID and product-description dictionary\n",
    "products_dict = data.groupby('StockCode')['Description'].apply(list).to_dict()"
   ]
  },
  {
   "cell_type": "markdown",
   "metadata": {},
   "source": [
    "Method for finding similar products given an input product vector"
   ]
  },
  {
   "cell_type": "code",
   "execution_count": 13,
   "metadata": {},
   "outputs": [],
   "source": [
    "def similar_products(v, n):   \n",
    "    # extract most similar products for the input vector\n",
    "    products = model.similar_by_vector(v, topn=n+1)[1:]\n",
    "    \n",
    "    # extract name and similarity score of the similar products\n",
    "    most_similar_products = []\n",
    "    for j in products:\n",
    "        pair = (products_dict[j[0]][0], j[1])\n",
    "        most_similar_products.append(pair)\n",
    "        \n",
    "    return most_similar_products     "
   ]
  },
  {
   "cell_type": "markdown",
   "metadata": {},
   "source": [
    "Method for aggregating products from session into single vector"
   ]
  },
  {
   "cell_type": "code",
   "execution_count": 14,
   "metadata": {},
   "outputs": [],
   "source": [
    "def aggregate_vectors(products):\n",
    "    product_vec = []\n",
    "    for i in products:\n",
    "        product_vec.append(model[i])\n",
    "        \n",
    "    return np.mean(product_vec, axis=0)"
   ]
  },
  {
   "cell_type": "markdown",
   "metadata": {},
   "source": [
    "Recommending similar products based on products in current session"
   ]
  },
  {
   "cell_type": "code",
   "execution_count": 15,
   "metadata": {},
   "outputs": [
    {
     "name": "stdout",
     "output_type": "stream",
     "text": [
      "Similar products:\n",
      "\n",
      "PAPER CHAIN KIT VINTAGE CHRISTMAS\n",
      "\n",
      "HOT WATER BOTTLE I AM SO POORLY\n",
      "\n",
      "HOT WATER BOTTLE KEEP CALM\n",
      "\n",
      "GARDENERS KNEELING PAD KEEP CALM \n",
      "\n",
      "VINTAGE CHRISTMAS BUNTING\n",
      "\n"
     ]
    }
   ],
   "source": [
    "print(\"Similar products:\\n\")\n",
    "recommended = similar_products(aggregate_vectors(session), 5)\n",
    "for p in recommended:\n",
    "    print(str(p[0]) + '\\n')"
   ]
  },
  {
   "cell_type": "markdown",
   "metadata": {},
   "source": [
    "Using recurrent neural network to predict products for session continuation"
   ]
  },
  {
   "cell_type": "code",
   "execution_count": 16,
   "metadata": {},
   "outputs": [
    {
     "name": "stdout",
     "output_type": "stream",
     "text": [
      "Number of unique products: 3238\n",
      "Total number of sequences: 185159\n"
     ]
    }
   ],
   "source": [
    "filtered_data = data[(data.InvoiceDate <= max_date) & (data.InvoiceDate >= (max_date - pd.DateOffset(months=3)))]\n",
    "transactions_array = []\n",
    "transactions = filtered_data.groupby(['InvoiceNo'], as_index=False)['StockCode'].apply(list)\n",
    "for i in range(0, len(transactions)):\n",
    "    transactions_array.append(transactions.values[i])\n",
    "\n",
    "products = filtered_data.StockCode.unique()\n",
    "print(\"Number of unique products: \" + str(len(products)))\n",
    "products_to_int = dict((p, i) for i, p in enumerate(products, start=1))\n",
    "int_to_products = dict((i, p) for i, p in enumerate(products, start=1))\n",
    "\n",
    "seq_length = 3\n",
    "dataX = []\n",
    "dataY = []\n",
    "\n",
    "for i in range(0, len(transactions_array)):\n",
    "    for j in range(0, len(transactions_array[i]) - seq_length):\n",
    "        seq_in = transactions_array[i][j:j + seq_length]\n",
    "        seq_out = transactions_array[i][j + seq_length]\n",
    "        dataX.append([products_to_int[prod] for prod in seq_in])\n",
    "        dataY.append(products_to_int[seq_out])\n",
    "\n",
    "print(\"Total number of sequences: \" + str(len(dataX)))\n",
    "\n",
    "# reshape X to be [samples, time steps, features]\n",
    "X = np.reshape(dataX, (len(dataX), seq_length, 1))\n",
    "# normalize values to be in range [0, 1]\n",
    "X = X/float(len(products))\n",
    "\n",
    "# make output categorical\n",
    "y = np_utils.to_categorical(dataY)"
   ]
  },
  {
   "cell_type": "code",
   "execution_count": 17,
   "metadata": {},
   "outputs": [
    {
     "name": "stdout",
     "output_type": "stream",
     "text": [
      "Epoch 1/30\n",
      "1482/1482 [==============================] - 20s 14ms/step - loss: 7.4364 - accuracy: 0.0037 - val_loss: 7.4745 - val_accuracy: 0.0047\n",
      "Epoch 2/30\n",
      "1482/1482 [==============================] - 18s 12ms/step - loss: 7.3316 - accuracy: 0.0044 - val_loss: 7.4442 - val_accuracy: 0.0054\n",
      "Epoch 3/30\n",
      "1482/1482 [==============================] - 19s 13ms/step - loss: 7.2927 - accuracy: 0.0050 - val_loss: 7.4143 - val_accuracy: 0.0053\n",
      "Epoch 4/30\n",
      "1482/1482 [==============================] - 19s 13ms/step - loss: 7.2563 - accuracy: 0.0055 - val_loss: 7.3952 - val_accuracy: 0.0053\n",
      "Epoch 5/30\n",
      "1482/1482 [==============================] - 19s 13ms/step - loss: 7.2180 - accuracy: 0.0059 - val_loss: 7.3722 - val_accuracy: 0.0071\n",
      "Epoch 6/30\n",
      "1482/1482 [==============================] - 19s 13ms/step - loss: 7.1834 - accuracy: 0.0066 - val_loss: 7.3594 - val_accuracy: 0.0073\n",
      "Epoch 7/30\n",
      "1482/1482 [==============================] - 19s 13ms/step - loss: 7.1515 - accuracy: 0.0074 - val_loss: 7.3495 - val_accuracy: 0.0082\n",
      "Epoch 8/30\n",
      "1482/1482 [==============================] - 19s 13ms/step - loss: 7.1201 - accuracy: 0.0083 - val_loss: 7.3444 - val_accuracy: 0.0097\n",
      "Epoch 9/30\n",
      "1482/1482 [==============================] - 19s 13ms/step - loss: 7.0895 - accuracy: 0.0093 - val_loss: 7.3325 - val_accuracy: 0.0119\n",
      "Epoch 10/30\n",
      "1482/1482 [==============================] - 19s 13ms/step - loss: 7.0583 - accuracy: 0.0104 - val_loss: 7.3372 - val_accuracy: 0.0117\n",
      "Epoch 11/30\n",
      "1482/1482 [==============================] - 19s 13ms/step - loss: 7.0270 - accuracy: 0.0117 - val_loss: 7.3281 - val_accuracy: 0.0142\n",
      "Epoch 12/30\n",
      "1482/1482 [==============================] - 19s 13ms/step - loss: 6.9991 - accuracy: 0.0128 - val_loss: 7.3289 - val_accuracy: 0.0157\n",
      "Epoch 13/30\n",
      "1482/1482 [==============================] - 19s 13ms/step - loss: 6.9699 - accuracy: 0.0134 - val_loss: 7.3251 - val_accuracy: 0.0154\n",
      "Epoch 14/30\n",
      "1482/1482 [==============================] - 19s 13ms/step - loss: 6.9413 - accuracy: 0.0140 - val_loss: 7.3360 - val_accuracy: 0.0181\n",
      "Epoch 15/30\n",
      "1482/1482 [==============================] - 19s 13ms/step - loss: 6.9162 - accuracy: 0.0149 - val_loss: 7.3291 - val_accuracy: 0.0196\n",
      "Epoch 16/30\n",
      "1482/1482 [==============================] - 20s 13ms/step - loss: 6.8932 - accuracy: 0.0159 - val_loss: 7.3329 - val_accuracy: 0.0188\n",
      "Epoch 17/30\n",
      "1482/1482 [==============================] - 19s 13ms/step - loss: 6.8727 - accuracy: 0.0159 - val_loss: 7.3268 - val_accuracy: 0.0208\n",
      "Epoch 18/30\n",
      "1482/1482 [==============================] - 19s 13ms/step - loss: 6.8501 - accuracy: 0.0168 - val_loss: 7.3299 - val_accuracy: 0.0217\n",
      "Epoch 19/30\n",
      "1482/1482 [==============================] - 19s 13ms/step - loss: 6.8314 - accuracy: 0.0176 - val_loss: 7.3458 - val_accuracy: 0.0233\n",
      "Epoch 20/30\n",
      "1482/1482 [==============================] - 19s 13ms/step - loss: 6.8166 - accuracy: 0.0181 - val_loss: 7.3432 - val_accuracy: 0.0240\n",
      "Epoch 21/30\n",
      "1482/1482 [==============================] - 19s 13ms/step - loss: 6.7976 - accuracy: 0.0186 - val_loss: 7.3501 - val_accuracy: 0.0238\n",
      "Epoch 22/30\n",
      "1482/1482 [==============================] - 19s 13ms/step - loss: 6.7825 - accuracy: 0.0191 - val_loss: 7.3531 - val_accuracy: 0.0256\n",
      "Epoch 23/30\n",
      "1482/1482 [==============================] - 19s 13ms/step - loss: 6.7679 - accuracy: 0.0198 - val_loss: 7.3495 - val_accuracy: 0.0268\n",
      "Epoch 24/30\n",
      "1482/1482 [==============================] - 19s 13ms/step - loss: 6.7555 - accuracy: 0.0197 - val_loss: 7.3539 - val_accuracy: 0.0285\n",
      "Epoch 25/30\n",
      "1482/1482 [==============================] - 19s 13ms/step - loss: 6.7424 - accuracy: 0.0210 - val_loss: 7.3698 - val_accuracy: 0.0268\n",
      "Epoch 26/30\n",
      "1482/1482 [==============================] - 19s 13ms/step - loss: 6.7317 - accuracy: 0.0213 - val_loss: 7.3679 - val_accuracy: 0.0287\n",
      "Epoch 27/30\n",
      "1482/1482 [==============================] - 19s 13ms/step - loss: 6.7197 - accuracy: 0.0211 - val_loss: 7.3754 - val_accuracy: 0.0287\n",
      "Epoch 28/30\n",
      "1482/1482 [==============================] - 19s 13ms/step - loss: 6.7101 - accuracy: 0.0219 - val_loss: 7.3743 - val_accuracy: 0.0296\n",
      "Epoch 29/30\n",
      "1482/1482 [==============================] - 19s 13ms/step - loss: 6.6979 - accuracy: 0.0217 - val_loss: 7.3741 - val_accuracy: 0.0308\n",
      "Epoch 30/30\n",
      "1482/1482 [==============================] - 19s 13ms/step - loss: 6.6917 - accuracy: 0.0225 - val_loss: 7.3793 - val_accuracy: 0.0304\n"
     ]
    }
   ],
   "source": [
    "lstm_model = Sequential()\n",
    "lstm_model.add(LSTM(150, input_shape=(X.shape[1], X.shape[2]), return_sequences=True))\n",
    "lstm_model.add(Dropout(0.2))\n",
    "lstm_model.add(LSTM(80))\n",
    "lstm_model.add(Dropout(0.2))\n",
    "lstm_model.add(Dense(y.shape[1], activation='softmax'))\n",
    "opt = Adam(learning_rate=0.001)\n",
    "lstm_model.compile(optimizer=opt, loss='categorical_crossentropy', metrics=['accuracy'])\n",
    "h = lstm_model.fit(X, y, epochs=30, batch_size=100, validation_split=0.2, verbose=1)"
   ]
  },
  {
   "cell_type": "code",
   "execution_count": 18,
   "metadata": {},
   "outputs": [
    {
     "data": {
      "image/png": "[encoded data removed]",
      "text/plain": [
       "<Figure size 432x288 with 1 Axes>"
      ]
     },
     "metadata": {
      "needs_background": "light"
     },
     "output_type": "display_data"
    },
    {
     "data": {
      "image/png": "[encoded data removed]",
      "text/plain": [
       "<Figure size 432x288 with 1 Axes>"
      ]
     },
     "metadata": {
      "needs_background": "light"
     },
     "output_type": "display_data"
    }
   ],
   "source": [
    "plt.plot(h.history['loss'], label='Train loss')\n",
    "plt.plot(h.history['val_loss'], label='Validation loss')\n",
    "plt.xlabel('Epochs')\n",
    "plt.ylabel('Loss')\n",
    "plt.legend(['train', 'validation'], loc='upper right')\n",
    "plt.show()\n",
    "plt.plot(h.history['accuracy'], label='Train accuracy')\n",
    "plt.plot(h.history['val_accuracy'], label='Validation accuracy')\n",
    "plt.xlabel('Epochs')\n",
    "plt.ylabel('Accuracy')\n",
    "plt.legend(['train', 'validation'], loc='upper right')\n",
    "plt.show()"
   ]
  },
  {
   "cell_type": "markdown",
   "metadata": {},
   "source": [
    "Predicting next product in session"
   ]
  },
  {
   "cell_type": "code",
   "execution_count": 19,
   "metadata": {},
   "outputs": [
    {
     "name": "stdout",
     "output_type": "stream",
     "text": [
      "Recommended products: \n",
      "\n",
      "GARDENERS KNEELING PAD KEEP CALM \n"
     ]
    }
   ],
   "source": [
    "session_enumerated = []\n",
    "session_enumerated.append([products_to_int[prod] for prod in recent_products])\n",
    "session_enumerated = np.reshape(session_enumerated, (len(session_enumerated), seq_length, 1))\n",
    "session_enumerated = session_enumerated/float(len(products))\n",
    "prediction = lstm_model.predict(session_enumerated, verbose=0)\n",
    "index = np.argmax(prediction)\n",
    "result = int_to_products[index]\n",
    "print(\"Recommended products: \\n\")\n",
    "print(products_dict[result][0])"
   ]
  },
  {
   "cell_type": "code",
   "execution_count": null,
   "metadata": {},
   "outputs": [],
   "source": []
  }
 ],
 "metadata": {
  "kernelspec": {
   "display_name": "Python 3",
   "language": "python",
   "name": "python3"
  },
  "language_info": {
   "codemirror_mode": {
    "name": "ipython",
    "version": 3
   },
   "file_extension": ".py",
   "mimetype": "text/x-python",
   "name": "python",
   "nbconvert_exporter": "python",
   "pygments_lexer": "ipython3",
   "version": "3.6.2"
  }
 },
 "nbformat": 4,
 "nbformat_minor": 1
}
