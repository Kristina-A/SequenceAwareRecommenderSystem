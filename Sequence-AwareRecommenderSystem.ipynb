{
 "cells": [
  {
   "cell_type": "markdown",
   "metadata": {
    "collapsed": true
   },
   "source": [
    "# Sequence-aware recommender system"
   ]
  },
  {
   "cell_type": "code",
   "execution_count": 1,
   "metadata": {},
   "outputs": [],
   "source": [
    "import numpy as np\n",
    "import warnings\n",
    "import pandas as pd\n",
    "from spmf import Spmf\n",
    "from gensim.models import Word2Vec\n",
    "from keras.optimizers import Adam\n",
    "from keras.models import Sequential\n",
    "from keras.layers import Dropout\n",
    "from keras.layers import Dense\n",
    "from keras.layers import LSTM\n",
    "from keras.layers import Embedding\n",
    "from keras.utils import np_utils\n",
    "from keras.regularizers import l2\n",
    "from matplotlib import pyplot as plt\n",
    "import ipywidgets as widgets\n",
    "from IPython.display import display"
   ]
  },
  {
   "cell_type": "code",
   "execution_count": 2,
   "metadata": {},
   "outputs": [
    {
     "data": {
      "text/html": [
       "<div>\n",
       "<style scoped>\n",
       "    .dataframe tbody tr th:only-of-type {\n",
       "        vertical-align: middle;\n",
       "    }\n",
       "\n",
       "    .dataframe tbody tr th {\n",
       "        vertical-align: top;\n",
       "    }\n",
       "\n",
       "    .dataframe thead th {\n",
       "        text-align: right;\n",
       "    }\n",
       "</style>\n",
       "<table border=\"1\" class=\"dataframe\">\n",
       "  <thead>\n",
       "    <tr style=\"text-align: right;\">\n",
       "      <th></th>\n",
       "      <th>InvoiceNo</th>\n",
       "      <th>StockCode</th>\n",
       "      <th>Description</th>\n",
       "      <th>Quantity</th>\n",
       "      <th>InvoiceDate</th>\n",
       "      <th>UnitPrice</th>\n",
       "      <th>CustomerID</th>\n",
       "      <th>Country</th>\n",
       "    </tr>\n",
       "  </thead>\n",
       "  <tbody>\n",
       "    <tr>\n",
       "      <th>0</th>\n",
       "      <td>536365</td>\n",
       "      <td>85123A</td>\n",
       "      <td>WHITE HANGING HEART T-LIGHT HOLDER</td>\n",
       "      <td>6</td>\n",
       "      <td>2010-12-01 08:26:00</td>\n",
       "      <td>2.55</td>\n",
       "      <td>17850</td>\n",
       "      <td>United Kingdom</td>\n",
       "    </tr>\n",
       "    <tr>\n",
       "      <th>1</th>\n",
       "      <td>536365</td>\n",
       "      <td>71053</td>\n",
       "      <td>WHITE METAL LANTERN</td>\n",
       "      <td>6</td>\n",
       "      <td>2010-12-01 08:26:00</td>\n",
       "      <td>3.39</td>\n",
       "      <td>17850</td>\n",
       "      <td>United Kingdom</td>\n",
       "    </tr>\n",
       "    <tr>\n",
       "      <th>2</th>\n",
       "      <td>536365</td>\n",
       "      <td>84406B</td>\n",
       "      <td>CREAM CUPID HEARTS COAT HANGER</td>\n",
       "      <td>8</td>\n",
       "      <td>2010-12-01 08:26:00</td>\n",
       "      <td>2.75</td>\n",
       "      <td>17850</td>\n",
       "      <td>United Kingdom</td>\n",
       "    </tr>\n",
       "    <tr>\n",
       "      <th>3</th>\n",
       "      <td>536365</td>\n",
       "      <td>84029G</td>\n",
       "      <td>KNITTED UNION FLAG HOT WATER BOTTLE</td>\n",
       "      <td>6</td>\n",
       "      <td>2010-12-01 08:26:00</td>\n",
       "      <td>3.39</td>\n",
       "      <td>17850</td>\n",
       "      <td>United Kingdom</td>\n",
       "    </tr>\n",
       "    <tr>\n",
       "      <th>4</th>\n",
       "      <td>536365</td>\n",
       "      <td>84029E</td>\n",
       "      <td>RED WOOLLY HOTTIE WHITE HEART.</td>\n",
       "      <td>6</td>\n",
       "      <td>2010-12-01 08:26:00</td>\n",
       "      <td>3.39</td>\n",
       "      <td>17850</td>\n",
       "      <td>United Kingdom</td>\n",
       "    </tr>\n",
       "  </tbody>\n",
       "</table>\n",
       "</div>"
      ],
      "text/plain": [
       "  InvoiceNo StockCode                          Description Quantity  \\\n",
       "0    536365    85123A   WHITE HANGING HEART T-LIGHT HOLDER        6   \n",
       "1    536365     71053                  WHITE METAL LANTERN        6   \n",
       "2    536365    84406B       CREAM CUPID HEARTS COAT HANGER        8   \n",
       "3    536365    84029G  KNITTED UNION FLAG HOT WATER BOTTLE        6   \n",
       "4    536365    84029E       RED WOOLLY HOTTIE WHITE HEART.        6   \n",
       "\n",
       "          InvoiceDate UnitPrice CustomerID         Country  \n",
       "0 2010-12-01 08:26:00      2.55      17850  United Kingdom  \n",
       "1 2010-12-01 08:26:00      3.39      17850  United Kingdom  \n",
       "2 2010-12-01 08:26:00      2.75      17850  United Kingdom  \n",
       "3 2010-12-01 08:26:00      3.39      17850  United Kingdom  \n",
       "4 2010-12-01 08:26:00      3.39      17850  United Kingdom  "
      ]
     },
     "execution_count": 2,
     "metadata": {},
     "output_type": "execute_result"
    }
   ],
   "source": [
    "warnings.filterwarnings('ignore')\n",
    "columns = ['InvoiceNo', 'StockCode', 'Description', 'Quantity', 'InvoiceDate', \n",
    "                'UnitPrice', 'CustomerID', 'Country']\n",
    "data = pd.read_csv('OnlineRetail.csv', sep=',', names=columns, engine='python')\n",
    "data = data.drop(data.index[[0]])\n",
    "\n",
    "# remove missing values\n",
    "data = data[(data.Description.notnull()) & (data.Description != 'mailto') & (data.Description != 'mailout') \n",
    "            & (data.Quantity.astype(int) > 0)]\n",
    "# transform column to datetime\n",
    "data['InvoiceDate'] = pd.to_datetime(data['InvoiceDate'])\n",
    "# reset row index\n",
    "data = data.reset_index(drop=True)\n",
    "\n",
    "data.head()"
   ]
  },
  {
   "cell_type": "markdown",
   "metadata": {},
   "source": [
    "## Transform transactions into lists of items"
   ]
  },
  {
   "cell_type": "code",
   "execution_count": 3,
   "metadata": {},
   "outputs": [
    {
     "data": {
      "text/plain": [
       "['23544 21790 21791 22619',\n",
       " '23318 21136 23319 22809 22810 22739 22732 22141 22144 22142 23313 22910 23264 23265 23266 20668 21803 35471D 22952 23267 23101 23350 23351 23349 23352',\n",
       " '21888 22992 22561 23494',\n",
       " '47566 22693 22523 22522 21878 22568 22621 22865 22867 22652 23198 84987 84991 22938 23197',\n",
       " '22426 22962 22963 22227 22139 23147 16008 84347 82486 84510A 22753 22757 21380 15056BL 15056N 23031 23146 22411']"
      ]
     },
     "execution_count": 3,
     "metadata": {},
     "output_type": "execute_result"
    }
   ],
   "source": [
    "# filter transactions to get only transactions from the past month\n",
    "max_date = data['InvoiceDate'].max()\n",
    "filtered_data = data[(data.InvoiceDate <= max_date) & (data.InvoiceDate >= (max_date - pd.DateOffset(months=1)))]\n",
    "transactions_array = []\n",
    "transactions = filtered_data.groupby(['InvoiceNo'], as_index=False)['StockCode'].apply(list)\n",
    "for i in range(0, len(transactions)):\n",
    "    vals = ' '.join(transactions.values[i])\n",
    "    transactions_array.append(vals)\n",
    "\n",
    "transactions_array[:5]"
   ]
  },
  {
   "cell_type": "markdown",
   "metadata": {},
   "source": [
    "## Method for getting recommendations from product's associations"
   ]
  },
  {
   "cell_type": "code",
   "execution_count": 4,
   "metadata": {},
   "outputs": [],
   "source": [
    "def recommend(recent_products, associations):\n",
    "    recommended = dict()\n",
    "    for p in recent_products:\n",
    "        for i in range(0, len(associations.pattern)):\n",
    "            if((p in associations.pattern.values[i]) and\n",
    "                    (associations.pattern.values[i].index(p) != (len(associations.pattern.values[i]) - 1))):\n",
    "                ind = associations.pattern.values[i].index(p)\n",
    "                if p not in recommended:\n",
    "                    recommended[p] = []\n",
    "                recommended[p].append([associations.pattern.values[i][ind + 1:], \n",
    "                                       associations.sup.values[i]])\n",
    "\n",
    "    return recommended"
   ]
  },
  {
   "cell_type": "markdown",
   "metadata": {},
   "source": [
    "## Method for printing recommendations"
   ]
  },
  {
   "cell_type": "code",
   "execution_count": 5,
   "metadata": {},
   "outputs": [],
   "source": [
    "def print_recommendations(recommended, products_dict, n):\n",
    "    for r in recommended:\n",
    "        print(\"Frequently bought with \" + str(products_dict[r][0]) + \" :\\n\")\n",
    "        supports = dict()\n",
    "        for p in recommended[r]:\n",
    "            supports[tuple(p[0])] = p[1]\n",
    "        sorted_supports = sorted(supports.items(), key=lambda x: x[1], reverse=True)\n",
    "\n",
    "        if n > len(supports):\n",
    "            m = len(supports)\n",
    "        else:\n",
    "            m = n\n",
    "        \n",
    "        for i in range(0, m):\n",
    "            for y in sorted_supports[i][0]:\n",
    "                print(str(products_dict[y][0]) + '\\n')"
   ]
  },
  {
   "cell_type": "markdown",
   "metadata": {},
   "source": [
    "## Using GSP algorithm to find associations between products"
   ]
  },
  {
   "cell_type": "code",
   "execution_count": 6,
   "metadata": {},
   "outputs": [
    {
     "name": "stdout",
     "output_type": "stream",
     "text": [
      ">/D:/Kristina/Documents/Master/BI/MLRecommenderSystem/spmf.jar\r\n",
      "Converting TEXT to SPMF format.\r\n",
      "Conversion completed.\r\n",
      "=============  Algorithm - STATISTICS =============\n",
      " Total time ~ 111316 ms\n",
      " Frequent sequences count : 484\n",
      " Max memory (mb):190.91753387451172\n",
      "===================================================\n",
      "\r\n",
      "Post-processing to show result in terms of string values.\r\n",
      "Post-processing completed.\r\n",
      "\n"
     ]
    },
    {
     "data": {
      "text/html": [
       "<div>\n",
       "<style scoped>\n",
       "    .dataframe tbody tr th:only-of-type {\n",
       "        vertical-align: middle;\n",
       "    }\n",
       "\n",
       "    .dataframe tbody tr th {\n",
       "        vertical-align: top;\n",
       "    }\n",
       "\n",
       "    .dataframe thead th {\n",
       "        text-align: right;\n",
       "    }\n",
       "</style>\n",
       "<table border=\"1\" class=\"dataframe\">\n",
       "  <thead>\n",
       "    <tr style=\"text-align: right;\">\n",
       "      <th></th>\n",
       "      <th>pattern</th>\n",
       "      <th>sup</th>\n",
       "    </tr>\n",
       "  </thead>\n",
       "  <tbody>\n",
       "    <tr>\n",
       "      <th>431</th>\n",
       "      <td>[21790, 21791]</td>\n",
       "      <td>60</td>\n",
       "    </tr>\n",
       "    <tr>\n",
       "      <th>432</th>\n",
       "      <td>[22141, 22144]</td>\n",
       "      <td>77</td>\n",
       "    </tr>\n",
       "    <tr>\n",
       "      <th>433</th>\n",
       "      <td>[22142, 22144]</td>\n",
       "      <td>60</td>\n",
       "    </tr>\n",
       "    <tr>\n",
       "      <th>434</th>\n",
       "      <td>[22086, 22144]</td>\n",
       "      <td>63</td>\n",
       "    </tr>\n",
       "    <tr>\n",
       "      <th>435</th>\n",
       "      <td>[22910, 22952]</td>\n",
       "      <td>62</td>\n",
       "    </tr>\n",
       "  </tbody>\n",
       "</table>\n",
       "</div>"
      ],
      "text/plain": [
       "            pattern  sup\n",
       "431  [21790, 21791]   60\n",
       "432  [22141, 22144]   77\n",
       "433  [22142, 22144]   60\n",
       "434  [22086, 22144]   63\n",
       "435  [22910, 22952]   62"
      ]
     },
     "execution_count": 6,
     "metadata": {},
     "output_type": "execute_result"
    }
   ],
   "source": [
    "result_GSP = Spmf(\"GSP\", input_direct=transactions_array, input_type=\"text\", arguments=[0.02],\n",
    "                  output_filename='GSP_output.txt',\n",
    "                  spmf_bin_location_dir='D:/Kristina/Documents/Master/BI/MLRecommenderSystem')\n",
    "result_GSP.run()\n",
    "df_GSP = result_GSP.to_pandas_dataframe(pickle=True)\n",
    "df_GSP = df_GSP[df_GSP.pattern.str.len() > 1]\n",
    "df_GSP.head()"
   ]
  },
  {
   "cell_type": "markdown",
   "metadata": {},
   "source": [
    "## Recommending similar products to user based on his latest interactions"
   ]
  },
  {
   "cell_type": "code",
   "execution_count": 7,
   "metadata": {},
   "outputs": [
    {
     "data": {
      "text/html": [
       "<div>\n",
       "<style scoped>\n",
       "    .dataframe tbody tr th:only-of-type {\n",
       "        vertical-align: middle;\n",
       "    }\n",
       "\n",
       "    .dataframe tbody tr th {\n",
       "        vertical-align: top;\n",
       "    }\n",
       "\n",
       "    .dataframe thead th {\n",
       "        text-align: right;\n",
       "    }\n",
       "</style>\n",
       "<table border=\"1\" class=\"dataframe\">\n",
       "  <thead>\n",
       "    <tr style=\"text-align: right;\">\n",
       "      <th></th>\n",
       "      <th>pattern</th>\n",
       "      <th>sup</th>\n",
       "    </tr>\n",
       "  </thead>\n",
       "  <tbody>\n",
       "    <tr>\n",
       "      <th>434</th>\n",
       "      <td>[22086, 22144]</td>\n",
       "      <td>63</td>\n",
       "    </tr>\n",
       "    <tr>\n",
       "      <th>435</th>\n",
       "      <td>[22910, 22952]</td>\n",
       "      <td>62</td>\n",
       "    </tr>\n",
       "    <tr>\n",
       "      <th>436</th>\n",
       "      <td>[22910, 23084]</td>\n",
       "      <td>79</td>\n",
       "    </tr>\n",
       "    <tr>\n",
       "      <th>437</th>\n",
       "      <td>[22910, 22086]</td>\n",
       "      <td>80</td>\n",
       "    </tr>\n",
       "    <tr>\n",
       "      <th>438</th>\n",
       "      <td>[22086, 22910]</td>\n",
       "      <td>142</td>\n",
       "    </tr>\n",
       "  </tbody>\n",
       "</table>\n",
       "</div>"
      ],
      "text/plain": [
       "            pattern  sup\n",
       "434  [22086, 22144]   63\n",
       "435  [22910, 22952]   62\n",
       "436  [22910, 23084]   79\n",
       "437  [22910, 22086]   80\n",
       "438  [22086, 22910]  142"
      ]
     },
     "execution_count": 7,
     "metadata": {},
     "output_type": "execute_result"
    }
   ],
   "source": [
    "session = ['85123A', '22835', '22086', '22910', '22577']\n",
    "recent_products = session[-3:]\n",
    "\n",
    "# create product-ID and product-description dictionary\n",
    "products_dict = filtered_data.groupby('StockCode')['Description'].apply(list).to_dict()\n",
    "\n",
    "# get itemsets that contain products from current session\n",
    "filtered_GSP = df_GSP[df_GSP.pattern.map(lambda x: np.isin(x, recent_products).any())]\n",
    "\n",
    "recommended = recommend(recent_products, filtered_GSP)\n",
    "\n",
    "filtered_GSP.head()"
   ]
  },
  {
   "cell_type": "code",
   "execution_count": 8,
   "metadata": {},
   "outputs": [
    {
     "name": "stdout",
     "output_type": "stream",
     "text": [
      "Frequently bought with PAPER CHAIN KIT 50'S CHRISTMAS  :\n",
      "\n",
      "PAPER CHAIN KIT VINTAGE CHRISTMAS\n",
      "\n",
      "RABBIT NIGHT LIGHT\n",
      "\n",
      "GARDENERS KNEELING PAD KEEP CALM \n",
      "\n",
      "Frequently bought with PAPER CHAIN KIT VINTAGE CHRISTMAS :\n",
      "\n",
      "PAPER CHAIN KIT 50'S CHRISTMAS \n",
      "\n",
      "RABBIT NIGHT LIGHT\n",
      "\n",
      "GARDENERS KNEELING PAD KEEP CALM \n",
      "\n",
      "Frequently bought with WOODEN HEART CHRISTMAS SCANDINAVIAN :\n",
      "\n",
      "WOODEN STAR CHRISTMAS SCANDINAVIAN\n",
      "\n",
      "WOODEN TREE CHRISTMAS SCANDINAVIAN\n",
      "\n"
     ]
    }
   ],
   "source": [
    "print_recommendations(recommended, products_dict, 3)"
   ]
  },
  {
   "cell_type": "markdown",
   "metadata": {},
   "source": [
    "## Using PrefixSpan algorithm to find associations between products"
   ]
  },
  {
   "cell_type": "code",
   "execution_count": 9,
   "metadata": {},
   "outputs": [
    {
     "name": "stdout",
     "output_type": "stream",
     "text": [
      ">/D:/Kristina/Documents/Master/BI/MLRecommenderSystem/spmf.jar\r\n",
      "Converting TEXT to SPMF format.\r\n",
      "Conversion completed.\r\n",
      "=============  PREFIXSPAN 0.99-2016 - STATISTICS =============\n",
      " Total time ~ 153 ms\n",
      " Frequent sequences count : 484\n",
      " Max memory (mb) : 70.19873046875\n",
      " minsup = 59 sequences.\n",
      " Pattern count : 484\n",
      "===================================================\n",
      "\r\n",
      "Post-processing to show result in terms of string values.\r\n",
      "Post-processing completed.\r\n",
      "\n"
     ]
    },
    {
     "data": {
      "text/html": [
       "<div>\n",
       "<style scoped>\n",
       "    .dataframe tbody tr th:only-of-type {\n",
       "        vertical-align: middle;\n",
       "    }\n",
       "\n",
       "    .dataframe tbody tr th {\n",
       "        vertical-align: top;\n",
       "    }\n",
       "\n",
       "    .dataframe thead th {\n",
       "        text-align: right;\n",
       "    }\n",
       "</style>\n",
       "<table border=\"1\" class=\"dataframe\">\n",
       "  <thead>\n",
       "    <tr style=\"text-align: right;\">\n",
       "      <th></th>\n",
       "      <th>pattern</th>\n",
       "      <th>sup</th>\n",
       "    </tr>\n",
       "  </thead>\n",
       "  <tbody>\n",
       "    <tr>\n",
       "      <th>1</th>\n",
       "      <td>[21790, 21791]</td>\n",
       "      <td>60</td>\n",
       "    </tr>\n",
       "    <tr>\n",
       "      <th>10</th>\n",
       "      <td>[22141, 22144]</td>\n",
       "      <td>77</td>\n",
       "    </tr>\n",
       "    <tr>\n",
       "      <th>13</th>\n",
       "      <td>[22142, 22144]</td>\n",
       "      <td>60</td>\n",
       "    </tr>\n",
       "    <tr>\n",
       "      <th>16</th>\n",
       "      <td>[22910, 22952]</td>\n",
       "      <td>62</td>\n",
       "    </tr>\n",
       "    <tr>\n",
       "      <th>17</th>\n",
       "      <td>[22910, 23084]</td>\n",
       "      <td>79</td>\n",
       "    </tr>\n",
       "  </tbody>\n",
       "</table>\n",
       "</div>"
      ],
      "text/plain": [
       "           pattern  sup\n",
       "1   [21790, 21791]   60\n",
       "10  [22141, 22144]   77\n",
       "13  [22142, 22144]   60\n",
       "16  [22910, 22952]   62\n",
       "17  [22910, 23084]   79"
      ]
     },
     "execution_count": 9,
     "metadata": {},
     "output_type": "execute_result"
    }
   ],
   "source": [
    "result_PrefixSpan = Spmf(\"PrefixSpan\", input_direct=transactions_array, input_type=\"text\", arguments=[0.02],\n",
    "                         output_filename='PS_output.txt',\n",
    "                         spmf_bin_location_dir='D:/Kristina/Documents/Master/BI/MLRecommenderSystem')\n",
    "result_PrefixSpan.run()\n",
    "df_PrefixSpan = result_PrefixSpan.to_pandas_dataframe(pickle=True)\n",
    "df_PrefixSpan = df_PrefixSpan[df_PrefixSpan.pattern.str.len() > 1]\n",
    "df_PrefixSpan.head()"
   ]
  },
  {
   "cell_type": "code",
   "execution_count": 10,
   "metadata": {},
   "outputs": [
    {
     "data": {
      "text/html": [
       "<div>\n",
       "<style scoped>\n",
       "    .dataframe tbody tr th:only-of-type {\n",
       "        vertical-align: middle;\n",
       "    }\n",
       "\n",
       "    .dataframe tbody tr th {\n",
       "        vertical-align: top;\n",
       "    }\n",
       "\n",
       "    .dataframe thead th {\n",
       "        text-align: right;\n",
       "    }\n",
       "</style>\n",
       "<table border=\"1\" class=\"dataframe\">\n",
       "  <thead>\n",
       "    <tr style=\"text-align: right;\">\n",
       "      <th></th>\n",
       "      <th>pattern</th>\n",
       "      <th>sup</th>\n",
       "    </tr>\n",
       "  </thead>\n",
       "  <tbody>\n",
       "    <tr>\n",
       "      <th>16</th>\n",
       "      <td>[22910, 22952]</td>\n",
       "      <td>62</td>\n",
       "    </tr>\n",
       "    <tr>\n",
       "      <th>17</th>\n",
       "      <td>[22910, 23084]</td>\n",
       "      <td>79</td>\n",
       "    </tr>\n",
       "    <tr>\n",
       "      <th>18</th>\n",
       "      <td>[22910, 22086]</td>\n",
       "      <td>80</td>\n",
       "    </tr>\n",
       "    <tr>\n",
       "      <th>19</th>\n",
       "      <td>[22910, 23301]</td>\n",
       "      <td>63</td>\n",
       "    </tr>\n",
       "    <tr>\n",
       "      <th>59</th>\n",
       "      <td>[22578, 22577]</td>\n",
       "      <td>67</td>\n",
       "    </tr>\n",
       "  </tbody>\n",
       "</table>\n",
       "</div>"
      ],
      "text/plain": [
       "           pattern  sup\n",
       "16  [22910, 22952]   62\n",
       "17  [22910, 23084]   79\n",
       "18  [22910, 22086]   80\n",
       "19  [22910, 23301]   63\n",
       "59  [22578, 22577]   67"
      ]
     },
     "execution_count": 10,
     "metadata": {},
     "output_type": "execute_result"
    }
   ],
   "source": [
    "# get itemsets that contain products from current session\n",
    "filtered_PrefixSpan = df_PrefixSpan[df_PrefixSpan.pattern.map(lambda x: np.isin(x, recent_products).any())]\n",
    "\n",
    "recommended = recommend(recent_products, filtered_PrefixSpan)\n",
    "\n",
    "filtered_PrefixSpan.head()"
   ]
  },
  {
   "cell_type": "code",
   "execution_count": 11,
   "metadata": {},
   "outputs": [
    {
     "name": "stdout",
     "output_type": "stream",
     "text": [
      "Frequently bought with PAPER CHAIN KIT 50'S CHRISTMAS  :\n",
      "\n",
      "PAPER CHAIN KIT VINTAGE CHRISTMAS\n",
      "\n",
      "RABBIT NIGHT LIGHT\n",
      "\n",
      "GARDENERS KNEELING PAD KEEP CALM \n",
      "\n",
      "Frequently bought with PAPER CHAIN KIT VINTAGE CHRISTMAS :\n",
      "\n",
      "PAPER CHAIN KIT 50'S CHRISTMAS \n",
      "\n",
      "RABBIT NIGHT LIGHT\n",
      "\n",
      "GARDENERS KNEELING PAD KEEP CALM \n",
      "\n",
      "Frequently bought with WOODEN HEART CHRISTMAS SCANDINAVIAN :\n",
      "\n",
      "WOODEN STAR CHRISTMAS SCANDINAVIAN\n",
      "\n",
      "WOODEN TREE CHRISTMAS SCANDINAVIAN\n",
      "\n"
     ]
    }
   ],
   "source": [
    "print_recommendations(recommended, products_dict, 3)"
   ]
  },
  {
   "cell_type": "markdown",
   "metadata": {},
   "source": [
    "## Using Prod2Vec for distributed product representation"
   ]
  },
  {
   "cell_type": "code",
   "execution_count": 12,
   "metadata": {},
   "outputs": [
    {
     "data": {
      "text/plain": [
       "[['85123A', '71053', '84406B', '84029G', '84029E', '22752', '21730'],\n",
       " ['22633', '22632'],\n",
       " ['84879',\n",
       "  '22745',\n",
       "  '22748',\n",
       "  '22749',\n",
       "  '22310',\n",
       "  '84969',\n",
       "  '22623',\n",
       "  '22622',\n",
       "  '21754',\n",
       "  '21755',\n",
       "  '21777',\n",
       "  '48187'],\n",
       " ['22960', '22913', '22912', '22914'],\n",
       " ['21756']]"
      ]
     },
     "execution_count": 12,
     "metadata": {},
     "output_type": "execute_result"
    }
   ],
   "source": [
    "transactions_array = []\n",
    "transactions = data.groupby(['InvoiceNo'], as_index=False)['StockCode'].apply(list)\n",
    "for i in range(0, len(transactions)):\n",
    "    transactions_array.append(transactions.values[i])\n",
    " \n",
    "transactions_array[:5]"
   ]
  },
  {
   "cell_type": "code",
   "execution_count": 13,
   "metadata": {},
   "outputs": [],
   "source": [
    "# train word2vec model\n",
    "model = Word2Vec(window=10, sg=1, hs=1, alpha=0.01, min_alpha=0.0001)\n",
    "\n",
    "model.build_vocab(transactions_array)\n",
    "\n",
    "model.train(transactions_array, total_examples=model.corpus_count, epochs=30)\n",
    "\n",
    "products = data[[\"StockCode\", \"Description\"]]\n",
    "\n",
    "# remove duplicates\n",
    "products.drop_duplicates(inplace=True, subset='StockCode', keep=\"last\")\n",
    "\n",
    "# create product-ID and product-description dictionary\n",
    "products_dict = data.groupby('StockCode')['Description'].apply(list).to_dict()\n",
    "product_names_dict = data.groupby('Description')['StockCode'].apply(list).to_dict()"
   ]
  },
  {
   "cell_type": "markdown",
   "metadata": {},
   "source": [
    "## Method for finding similar products given an input product vector"
   ]
  },
  {
   "cell_type": "code",
   "execution_count": 14,
   "metadata": {},
   "outputs": [],
   "source": [
    "def similar_products(v, n, session):   \n",
    "    # extract most similar products for the input vector\n",
    "    products = model.similar_by_vector(v, topn=n)\n",
    "    \n",
    "    # extract name and similarity score of the similar products\n",
    "    most_similar_products = []\n",
    "    for j in products:\n",
    "        if j[0] not in session:\n",
    "            pair = (products_dict[j[0]][0], j[1])\n",
    "            most_similar_products.append(pair)\n",
    "        \n",
    "    return most_similar_products     "
   ]
  },
  {
   "cell_type": "markdown",
   "metadata": {},
   "source": [
    "## Method for aggregating products from session into single vector"
   ]
  },
  {
   "cell_type": "code",
   "execution_count": 15,
   "metadata": {},
   "outputs": [],
   "source": [
    "def aggregate_vectors(products):\n",
    "    product_vec = []\n",
    "    for i in products:\n",
    "        product_vec.append(model[i])\n",
    "        \n",
    "    return np.mean(product_vec, axis=0)"
   ]
  },
  {
   "cell_type": "markdown",
   "metadata": {},
   "source": [
    "## Recommending similar products based on products in current session"
   ]
  },
  {
   "cell_type": "code",
   "execution_count": 16,
   "metadata": {},
   "outputs": [
    {
     "name": "stdout",
     "output_type": "stream",
     "text": [
      "Similar products:\n",
      "\n",
      "SET OF 20 VINTAGE CHRISTMAS NAPKINS\n",
      "\n",
      "WOODEN STAR CHRISTMAS SCANDINAVIAN\n",
      "\n",
      "WOODEN TREE CHRISTMAS SCANDINAVIAN\n",
      "\n",
      "METAL MERRY CHRISTMAS WREATH\n",
      "\n",
      "ADVENT CALENDAR GINGHAM SACK\n",
      "\n"
     ]
    }
   ],
   "source": [
    "print(\"Similar products:\\n\")\n",
    "recommended = similar_products(aggregate_vectors(recent_products), 8, session)\n",
    "for p in recommended:\n",
    "    print(str(p[0]) + '\\n')"
   ]
  },
  {
   "cell_type": "markdown",
   "metadata": {},
   "source": [
    "## Using recurrent neural network to predict products for session continuation"
   ]
  },
  {
   "cell_type": "markdown",
   "metadata": {},
   "source": [
    "## Many-to-one model"
   ]
  },
  {
   "cell_type": "code",
   "execution_count": 17,
   "metadata": {},
   "outputs": [
    {
     "data": {
      "text/html": [
       "<div>\n",
       "<style scoped>\n",
       "    .dataframe tbody tr th:only-of-type {\n",
       "        vertical-align: middle;\n",
       "    }\n",
       "\n",
       "    .dataframe tbody tr th {\n",
       "        vertical-align: top;\n",
       "    }\n",
       "\n",
       "    .dataframe thead th {\n",
       "        text-align: right;\n",
       "    }\n",
       "</style>\n",
       "<table border=\"1\" class=\"dataframe\">\n",
       "  <thead>\n",
       "    <tr style=\"text-align: right;\">\n",
       "      <th></th>\n",
       "      <th>InvoiceNo</th>\n",
       "      <th>StockCode</th>\n",
       "      <th>Description</th>\n",
       "      <th>Quantity</th>\n",
       "      <th>InvoiceDate</th>\n",
       "      <th>UnitPrice</th>\n",
       "      <th>CustomerID</th>\n",
       "      <th>Country</th>\n",
       "    </tr>\n",
       "  </thead>\n",
       "  <tbody>\n",
       "    <tr>\n",
       "      <th>0</th>\n",
       "      <td>536365</td>\n",
       "      <td>85123A</td>\n",
       "      <td>WHITE HANGING HEART T-LIGHT HOLDER</td>\n",
       "      <td>6</td>\n",
       "      <td>2010-12-01 08:26:00</td>\n",
       "      <td>2.55</td>\n",
       "      <td>17850</td>\n",
       "      <td>United Kingdom</td>\n",
       "    </tr>\n",
       "    <tr>\n",
       "      <th>1</th>\n",
       "      <td>536365</td>\n",
       "      <td>71053</td>\n",
       "      <td>WHITE METAL LANTERN</td>\n",
       "      <td>6</td>\n",
       "      <td>2010-12-01 08:26:00</td>\n",
       "      <td>3.39</td>\n",
       "      <td>17850</td>\n",
       "      <td>United Kingdom</td>\n",
       "    </tr>\n",
       "    <tr>\n",
       "      <th>2</th>\n",
       "      <td>536365</td>\n",
       "      <td>84406B</td>\n",
       "      <td>CREAM CUPID HEARTS COAT HANGER</td>\n",
       "      <td>8</td>\n",
       "      <td>2010-12-01 08:26:00</td>\n",
       "      <td>2.75</td>\n",
       "      <td>17850</td>\n",
       "      <td>United Kingdom</td>\n",
       "    </tr>\n",
       "    <tr>\n",
       "      <th>3</th>\n",
       "      <td>536365</td>\n",
       "      <td>84029G</td>\n",
       "      <td>KNITTED UNION FLAG HOT WATER BOTTLE</td>\n",
       "      <td>6</td>\n",
       "      <td>2010-12-01 08:26:00</td>\n",
       "      <td>3.39</td>\n",
       "      <td>17850</td>\n",
       "      <td>United Kingdom</td>\n",
       "    </tr>\n",
       "    <tr>\n",
       "      <th>4</th>\n",
       "      <td>536365</td>\n",
       "      <td>84029E</td>\n",
       "      <td>RED WOOLLY HOTTIE WHITE HEART.</td>\n",
       "      <td>6</td>\n",
       "      <td>2010-12-01 08:26:00</td>\n",
       "      <td>3.39</td>\n",
       "      <td>17850</td>\n",
       "      <td>United Kingdom</td>\n",
       "    </tr>\n",
       "  </tbody>\n",
       "</table>\n",
       "</div>"
      ],
      "text/plain": [
       "  InvoiceNo StockCode                          Description Quantity  \\\n",
       "0    536365    85123A   WHITE HANGING HEART T-LIGHT HOLDER        6   \n",
       "1    536365     71053                  WHITE METAL LANTERN        6   \n",
       "2    536365    84406B       CREAM CUPID HEARTS COAT HANGER        8   \n",
       "3    536365    84029G  KNITTED UNION FLAG HOT WATER BOTTLE        6   \n",
       "4    536365    84029E       RED WOOLLY HOTTIE WHITE HEART.        6   \n",
       "\n",
       "          InvoiceDate UnitPrice CustomerID         Country  \n",
       "0 2010-12-01 08:26:00      2.55      17850  United Kingdom  \n",
       "1 2010-12-01 08:26:00      3.39      17850  United Kingdom  \n",
       "2 2010-12-01 08:26:00      2.75      17850  United Kingdom  \n",
       "3 2010-12-01 08:26:00      3.39      17850  United Kingdom  \n",
       "4 2010-12-01 08:26:00      3.39      17850  United Kingdom  "
      ]
     },
     "execution_count": 17,
     "metadata": {},
     "output_type": "execute_result"
    }
   ],
   "source": [
    "# filter data\n",
    "n = data.groupby('StockCode').count()[['InvoiceNo']]\n",
    "purchases = dict()\n",
    "for i in n.index:\n",
    "    purchases[i] = n['InvoiceNo'].loc[i]\n",
    "\n",
    "sorted_purchases = sorted(purchases.items(), key=lambda x: x[1])\n",
    "least_purchased = []\n",
    "most_purchased = []\n",
    "for i in range(1500):\n",
    "    least_purchased.append(sorted_purchases[i][0])\n",
    "    most_purchased.append(sorted_purchases[-i][0])\n",
    "\n",
    "filtered_products = data[~data.StockCode.isin(least_purchased)]\n",
    "filtered_products.head()"
   ]
  },
  {
   "cell_type": "code",
   "execution_count": 18,
   "metadata": {},
   "outputs": [
    {
     "name": "stdout",
     "output_type": "stream",
     "text": [
      "Number of unique products: 2311\n",
      "Total number of sequences: 179186\n"
     ]
    }
   ],
   "source": [
    "filtered_data = filtered_products[(filtered_products.InvoiceDate <= max_date) \n",
    "                               & (filtered_products.InvoiceDate >= (max_date - pd.DateOffset(months=3)))]\n",
    "transactions_array = []\n",
    "transactions = filtered_data.groupby(['InvoiceNo'], as_index=False)['StockCode'].apply(list)\n",
    "for i in range(0, len(transactions)):\n",
    "    transactions_array.append(transactions.values[i])\n",
    "\n",
    "products = filtered_data.StockCode.unique()\n",
    "print(\"Number of unique products: \" + str(len(products)))\n",
    "products_to_int = dict((p, i) for i, p in enumerate(products, start=1))\n",
    "int_to_products = dict((i, p) for i, p in enumerate(products, start=1))\n",
    "\n",
    "seq_length = 3\n",
    "dataX = []\n",
    "dataY = []\n",
    "\n",
    "for i in range(0, len(transactions_array)):\n",
    "    for j in range(0, len(transactions_array[i]) - seq_length):\n",
    "        seq_in = transactions_array[i][j:j + seq_length]\n",
    "        seq_out = transactions_array[i][j + seq_length]\n",
    "        dataX.append([products_to_int[prod] for prod in seq_in])\n",
    "        dataY.append(products_to_int[seq_out])\n",
    "\n",
    "print(\"Total number of sequences: \" + str(len(dataX)))\n",
    "\n",
    "# reshape X to be [samples, time steps, features]\n",
    "X = np.reshape(dataX, (len(dataX), seq_length, 1))\n",
    "\n",
    "# make output categorical\n",
    "y = np_utils.to_categorical(dataY)"
   ]
  },
  {
   "cell_type": "code",
   "execution_count": 19,
   "metadata": {},
   "outputs": [
    {
     "name": "stdout",
     "output_type": "stream",
     "text": [
      "Model: \"sequential\"\n",
      "_________________________________________________________________\n",
      "Layer (type)                 Output Shape              Param #   \n",
      "=================================================================\n",
      "embedding (Embedding)        (None, 3, 30)             69360     \n",
      "_________________________________________________________________\n",
      "lstm (LSTM)                  (None, 3, 100)            52400     \n",
      "_________________________________________________________________\n",
      "dropout (Dropout)            (None, 3, 100)            0         \n",
      "_________________________________________________________________\n",
      "lstm_1 (LSTM)                (None, 50)                30200     \n",
      "_________________________________________________________________\n",
      "dropout_1 (Dropout)          (None, 50)                0         \n",
      "_________________________________________________________________\n",
      "dense (Dense)                (None, 2312)              117912    \n",
      "=================================================================\n",
      "Total params: 269,872\n",
      "Trainable params: 269,872\n",
      "Non-trainable params: 0\n",
      "_________________________________________________________________\n",
      "None\n",
      "Epoch 1/50\n",
      "1434/1434 [==============================] - 15s 10ms/step - loss: 7.2457 - accuracy: 0.0044 - val_loss: 7.2005 - val_accuracy: 0.0054\n",
      "Epoch 2/50\n",
      "1434/1434 [==============================] - 13s 9ms/step - loss: 7.0440 - accuracy: 0.0071 - val_loss: 7.0417 - val_accuracy: 0.0094\n",
      "Epoch 3/50\n",
      "1434/1434 [==============================] - 12s 8ms/step - loss: 6.8861 - accuracy: 0.0108 - val_loss: 6.8566 - val_accuracy: 0.0146\n",
      "Epoch 4/50\n",
      "1434/1434 [==============================] - 12s 8ms/step - loss: 6.7033 - accuracy: 0.0172 - val_loss: 6.6964 - val_accuracy: 0.0238\n",
      "Epoch 5/50\n",
      "1434/1434 [==============================] - 13s 9ms/step - loss: 6.5678 - accuracy: 0.0235 - val_loss: 6.5693 - val_accuracy: 0.0318\n",
      "Epoch 6/50\n",
      "1434/1434 [==============================] - 13s 9ms/step - loss: 6.4461 - accuracy: 0.0314 - val_loss: 6.4544 - val_accuracy: 0.0410\n",
      "Epoch 7/50\n",
      "1434/1434 [==============================] - 13s 9ms/step - loss: 6.3315 - accuracy: 0.0393 - val_loss: 6.3258 - val_accuracy: 0.0519\n",
      "Epoch 8/50\n",
      "1434/1434 [==============================] - 14s 10ms/step - loss: 6.2268 - accuracy: 0.0476 - val_loss: 6.2254 - val_accuracy: 0.0606\n",
      "Epoch 9/50\n",
      "1434/1434 [==============================] - 13s 9ms/step - loss: 6.1362 - accuracy: 0.0552 - val_loss: 6.1432 - val_accuracy: 0.0695\n",
      "Epoch 10/50\n",
      "1434/1434 [==============================] - 13s 9ms/step - loss: 6.0586 - accuracy: 0.0614 - val_loss: 6.0547 - val_accuracy: 0.0761\n",
      "Epoch 11/50\n",
      "1434/1434 [==============================] - 13s 9ms/step - loss: 5.9911 - accuracy: 0.0674 - val_loss: 5.9972 - val_accuracy: 0.0844\n",
      "Epoch 12/50\n",
      "1434/1434 [==============================] - 13s 9ms/step - loss: 5.9301 - accuracy: 0.0731 - val_loss: 5.9328 - val_accuracy: 0.0895\n",
      "Epoch 13/50\n",
      "1434/1434 [==============================] - 13s 9ms/step - loss: 5.8791 - accuracy: 0.0777 - val_loss: 5.8807 - val_accuracy: 0.0960\n",
      "Epoch 14/50\n",
      "1434/1434 [==============================] - 15s 11ms/step - loss: 5.8361 - accuracy: 0.0813 - val_loss: 5.8419 - val_accuracy: 0.1012\n",
      "Epoch 15/50\n",
      "1434/1434 [==============================] - 12s 9ms/step - loss: 5.7934 - accuracy: 0.0861 - val_loss: 5.8082 - val_accuracy: 0.1052\n",
      "Epoch 16/50\n",
      "1434/1434 [==============================] - 12s 8ms/step - loss: 5.7582 - accuracy: 0.0891 - val_loss: 5.7724 - val_accuracy: 0.1111\n",
      "Epoch 17/50\n",
      "1434/1434 [==============================] - 13s 9ms/step - loss: 5.7233 - accuracy: 0.0939 - val_loss: 5.7445 - val_accuracy: 0.1128\n",
      "Epoch 18/50\n",
      "1434/1434 [==============================] - 13s 9ms/step - loss: 5.6944 - accuracy: 0.0965 - val_loss: 5.7187 - val_accuracy: 0.1147\n",
      "Epoch 19/50\n",
      "1434/1434 [==============================] - 13s 9ms/step - loss: 5.6677 - accuracy: 0.0996 - val_loss: 5.6971 - val_accuracy: 0.1200\n",
      "Epoch 20/50\n",
      "1434/1434 [==============================] - 12s 8ms/step - loss: 5.6436 - accuracy: 0.1015 - val_loss: 5.6817 - val_accuracy: 0.1232\n",
      "Epoch 21/50\n",
      "1434/1434 [==============================] - 14s 9ms/step - loss: 5.6170 - accuracy: 0.1055 - val_loss: 5.6595 - val_accuracy: 0.1265\n",
      "Epoch 22/50\n",
      "1434/1434 [==============================] - 13s 9ms/step - loss: 5.5983 - accuracy: 0.1070 - val_loss: 5.6442 - val_accuracy: 0.1310\n",
      "Epoch 23/50\n",
      "1434/1434 [==============================] - 12s 8ms/step - loss: 5.5782 - accuracy: 0.1102 - val_loss: 5.6244 - val_accuracy: 0.1341\n",
      "Epoch 24/50\n",
      "1434/1434 [==============================] - 13s 9ms/step - loss: 5.5613 - accuracy: 0.1120 - val_loss: 5.6162 - val_accuracy: 0.1357\n",
      "Epoch 25/50\n",
      "1434/1434 [==============================] - 12s 8ms/step - loss: 5.5427 - accuracy: 0.1135 - val_loss: 5.6036 - val_accuracy: 0.1382\n",
      "Epoch 26/50\n",
      "1434/1434 [==============================] - 13s 9ms/step - loss: 5.5263 - accuracy: 0.1167 - val_loss: 5.5883 - val_accuracy: 0.1416\n",
      "Epoch 27/50\n",
      "1434/1434 [==============================] - 12s 9ms/step - loss: 5.5080 - accuracy: 0.1179 - val_loss: 5.5849 - val_accuracy: 0.1418\n",
      "Epoch 28/50\n",
      "1434/1434 [==============================] - 13s 9ms/step - loss: 5.4945 - accuracy: 0.1193 - val_loss: 5.5773 - val_accuracy: 0.1425\n",
      "Epoch 29/50\n",
      "1434/1434 [==============================] - 15s 11ms/step - loss: 5.4808 - accuracy: 0.1216 - val_loss: 5.5703 - val_accuracy: 0.1451\n",
      "Epoch 30/50\n",
      "1434/1434 [==============================] - 12s 8ms/step - loss: 5.4688 - accuracy: 0.1224 - val_loss: 5.5633 - val_accuracy: 0.1455\n",
      "Epoch 31/50\n",
      "1434/1434 [==============================] - 12s 8ms/step - loss: 5.4584 - accuracy: 0.1241 - val_loss: 5.5630 - val_accuracy: 0.1457\n",
      "Epoch 32/50\n",
      "1434/1434 [==============================] - 12s 9ms/step - loss: 5.4414 - accuracy: 0.1256 - val_loss: 5.5541 - val_accuracy: 0.1476\n",
      "Epoch 33/50\n",
      "1434/1434 [==============================] - 13s 9ms/step - loss: 5.4308 - accuracy: 0.1260 - val_loss: 5.5445 - val_accuracy: 0.1506\n",
      "Epoch 34/50\n",
      "1434/1434 [==============================] - 12s 8ms/step - loss: 5.4204 - accuracy: 0.1276 - val_loss: 5.5414 - val_accuracy: 0.1518\n",
      "Epoch 35/50\n",
      "1434/1434 [==============================] - 12s 9ms/step - loss: 5.4067 - accuracy: 0.1291 - val_loss: 5.5388 - val_accuracy: 0.1548\n",
      "Epoch 36/50\n",
      "1434/1434 [==============================] - 13s 9ms/step - loss: 5.3945 - accuracy: 0.1304 - val_loss: 5.5369 - val_accuracy: 0.1521\n",
      "Epoch 37/50\n",
      "1434/1434 [==============================] - 13s 9ms/step - loss: 5.3868 - accuracy: 0.1310 - val_loss: 5.5307 - val_accuracy: 0.1560\n",
      "Epoch 38/50\n",
      "1434/1434 [==============================] - 13s 9ms/step - loss: 5.3748 - accuracy: 0.1329 - val_loss: 5.5353 - val_accuracy: 0.1560\n",
      "Epoch 39/50\n",
      "1434/1434 [==============================] - 13s 9ms/step - loss: 5.3663 - accuracy: 0.1335 - val_loss: 5.5323 - val_accuracy: 0.1569\n",
      "Epoch 40/50\n",
      "1434/1434 [==============================] - 13s 9ms/step - loss: 5.3562 - accuracy: 0.1345 - val_loss: 5.5279 - val_accuracy: 0.1560\n",
      "Epoch 41/50\n",
      "1434/1434 [==============================] - 13s 9ms/step - loss: 5.3462 - accuracy: 0.1367 - val_loss: 5.5272 - val_accuracy: 0.1574\n",
      "Epoch 42/50\n",
      "1434/1434 [==============================] - 13s 9ms/step - loss: 5.3335 - accuracy: 0.1357 - val_loss: 5.5293 - val_accuracy: 0.1574\n",
      "Epoch 43/50\n",
      "1434/1434 [==============================] - 13s 9ms/step - loss: 5.3286 - accuracy: 0.1377 - val_loss: 5.5279 - val_accuracy: 0.1587\n",
      "Epoch 44/50\n",
      "1434/1434 [==============================] - 13s 9ms/step - loss: 5.3193 - accuracy: 0.1377 - val_loss: 5.5245 - val_accuracy: 0.1600\n",
      "Epoch 45/50\n",
      "1434/1434 [==============================] - 12s 8ms/step - loss: 5.3061 - accuracy: 0.1396 - val_loss: 5.5217 - val_accuracy: 0.1622\n",
      "Epoch 46/50\n",
      "1434/1434 [==============================] - 14s 10ms/step - loss: 5.3017 - accuracy: 0.1410 - val_loss: 5.5199 - val_accuracy: 0.1596\n",
      "Epoch 47/50\n",
      "1434/1434 [==============================] - 12s 8ms/step - loss: 5.2939 - accuracy: 0.1413 - val_loss: 5.5269 - val_accuracy: 0.1599\n",
      "Epoch 48/50\n",
      "1434/1434 [==============================] - 13s 9ms/step - loss: 5.2843 - accuracy: 0.1421 - val_loss: 5.5260 - val_accuracy: 0.1617\n",
      "Epoch 49/50\n",
      "1434/1434 [==============================] - 12s 9ms/step - loss: 5.2747 - accuracy: 0.1429 - val_loss: 5.5228 - val_accuracy: 0.1620\n",
      "Epoch 50/50\n",
      "1434/1434 [==============================] - 13s 9ms/step - loss: 5.2710 - accuracy: 0.1443 - val_loss: 5.5193 - val_accuracy: 0.1631\n"
     ]
    }
   ],
   "source": [
    "lstm_model = Sequential()\n",
    "lstm_model.add(Embedding(len(products) + 1, 30, input_length=seq_length))\n",
    "lstm_model.add(LSTM(100, kernel_regularizer=l2(0.0001), recurrent_regularizer=l2(0.0001),\n",
    "                    return_sequences=True))\n",
    "lstm_model.add(Dropout(0.2))\n",
    "lstm_model.add(LSTM(50, kernel_regularizer=l2(0.0001), recurrent_regularizer=l2(0.0001)))\n",
    "lstm_model.add(Dropout(0.2))\n",
    "lstm_model.add(Dense(y.shape[1], activation='softmax'))\n",
    "opt = Adam(learning_rate=0.001)\n",
    "lstm_model.compile(optimizer=opt, loss='categorical_crossentropy', metrics=['accuracy'])\n",
    "print(lstm_model.summary())\n",
    "h = lstm_model.fit(X, y, epochs=50, batch_size=100, validation_split=0.2, verbose=1)"
   ]
  },
  {
   "cell_type": "code",
   "execution_count": 20,
   "metadata": {},
   "outputs": [
    {
     "data": {
      "image/png": "[encoded data removed]",
      "text/plain": [
       "<Figure size 432x288 with 1 Axes>"
      ]
     },
     "metadata": {
      "needs_background": "light"
     },
     "output_type": "display_data"
    },
    {
     "data": {
      "image/png": "[encoded data removed]",
      "text/plain": [
       "<Figure size 432x288 with 1 Axes>"
      ]
     },
     "metadata": {
      "needs_background": "light"
     },
     "output_type": "display_data"
    }
   ],
   "source": [
    "plt.plot(h.history['loss'], label='Train loss')\n",
    "plt.plot(h.history['val_loss'], label='Validation loss')\n",
    "plt.xlabel('Epochs')\n",
    "plt.ylabel('Loss')\n",
    "plt.legend(['train', 'validation'], loc='upper right')\n",
    "plt.show()\n",
    "plt.plot(h.history['accuracy'], label='Train accuracy')\n",
    "plt.plot(h.history['val_accuracy'], label='Validation accuracy')\n",
    "plt.xlabel('Epochs')\n",
    "plt.ylabel('Accuracy')\n",
    "plt.legend(['train', 'validation'], loc='upper right')\n",
    "plt.show()"
   ]
  },
  {
   "cell_type": "markdown",
   "metadata": {},
   "source": [
    "## Predicting next product(s) in session"
   ]
  },
  {
   "cell_type": "code",
   "execution_count": 21,
   "metadata": {},
   "outputs": [
    {
     "name": "stdout",
     "output_type": "stream",
     "text": [
      "Recommended products: \n",
      "\n",
      "WOODEN STAR CHRISTMAS SCANDINAVIAN\n",
      "WOODEN TREE CHRISTMAS SCANDINAVIAN\n",
      "ADVENT CALENDAR GINGHAM SACK\n"
     ]
    }
   ],
   "source": [
    "session_enumerated = []\n",
    "session_enumerated.append([products_to_int[prod] for prod in recent_products])\n",
    "results = []\n",
    "\n",
    "for i in range(3):\n",
    "    x = np.reshape(session_enumerated, (1, seq_length, 1))\n",
    "    prediction = lstm_model.predict(x, verbose=0)\n",
    "    index = np.argmax(prediction)\n",
    "    results.append(int_to_products[index])\n",
    "    session_enumerated[0].append(index)\n",
    "    session_enumerated[0] = session_enumerated[0][1:len(session_enumerated[0])]\n",
    "\n",
    "print(\"Recommended products: \\n\")\n",
    "for res in results:\n",
    "    print(products_dict[res][0])"
   ]
  },
  {
   "cell_type": "markdown",
   "metadata": {},
   "source": [
    "## UI logic"
   ]
  },
  {
   "cell_type": "code",
   "execution_count": 22,
   "metadata": {},
   "outputs": [],
   "source": [
    "def show_recommendations(recommended, n):\n",
    "    if len(lbl_frequently_bought) > 0:\n",
    "        lbl_frequently_bought[-1].close()\n",
    "        lbl_frequently_bought.remove(lbl_frequently_bought[-1])\n",
    "        grid_box_frequently_bought[-1].close()\n",
    "        grid_box_frequently_bought.remove(grid_box_frequently_bought[-1])\n",
    "    \n",
    "    for r in recommended:\n",
    "        lbl_bought_together = widgets.Label(value=\"Frequently bought with \" + str(products_dict[r][0]))\n",
    "        lbl_frequently_bought.append(lbl_bought_together)\n",
    "        display(lbl_bought_together)\n",
    "        supports = dict()\n",
    "        for p in recommended[r]:\n",
    "            supports[tuple(p[0])] = p[1]\n",
    "        sorted_supports = sorted(supports.items(), key=lambda x: x[1], reverse=True)\n",
    "\n",
    "        if n > len(supports):\n",
    "            m = len(supports)\n",
    "        else:\n",
    "            m = n\n",
    "        \n",
    "        boxes = []\n",
    "        for i in range(0, m):\n",
    "            for y in sorted_supports[i][0]:\n",
    "                lbl_name = widgets.Label(value=products_dict[y][0])\n",
    "                btn_view = widgets.Button(description='View', disabled=False, button_style='info', tooltip='')\n",
    "                btn_add_to_cart = widgets.Button(description='Add to cart', disabled=False, button_style='info', tooltip='')\n",
    "                v_box = widgets.VBox([lbl_name, widgets.Box([btn_view, btn_add_to_cart])])\n",
    "                btn_view.parent = v_box\n",
    "                btn_add_to_cart.parent = v_box\n",
    "                btn_view.on_click(on_btn_view_click)\n",
    "                btn_add_to_cart.on_click(on_btn_cart_click)\n",
    "                boxes.append(v_box)\n",
    "        \n",
    "        grid_box_bought_together = widgets.GridBox(boxes, layout=widgets.Layout(grid_template_columns=\"repeat(3, 350px)\"))\n",
    "        grid_box_frequently_bought.append(grid_box_bought_together)\n",
    "        display(grid_box_bought_together)"
   ]
  },
  {
   "cell_type": "code",
   "execution_count": 23,
   "metadata": {},
   "outputs": [],
   "source": [
    "def get_and_show_recommendations(interactions):\n",
    "    recommendations_PrefixSpan = recommend(interactions, filtered_PrefixSpan)\n",
    "    show_recommendations(recommendations_PrefixSpan, 3)"
   ]
  },
  {
   "cell_type": "code",
   "execution_count": 24,
   "metadata": {},
   "outputs": [],
   "source": [
    "def show_similar_products(interactions):\n",
    "    if len(interactions) > 5:\n",
    "        interactions = interactions[-5:]\n",
    "    \n",
    "    recommended = similar_products(aggregate_vectors(interactions), 10, interactions)\n",
    "    \n",
    "    if len(lbl_similar_products) > 0:\n",
    "        lbl_similar_products[-1].close()\n",
    "        lbl_similar_products.remove(lbl_similar_products[-1])\n",
    "        grid_box_similar_products[-1].close()\n",
    "        grid_box_similar_products.remove(grid_box_similar_products[-1])\n",
    "    \n",
    "    lbl_similar = widgets.Label(value=\"Similar products:\")\n",
    "    lbl_similar_products.append(lbl_similar)\n",
    "    display(lbl_similar)\n",
    "    \n",
    "    boxes = []\n",
    "    for r in recommended[:6]:\n",
    "        lbl_name = widgets.Label(value=r[0])\n",
    "        btn_view = widgets.Button(description='View', disabled=False, button_style='info', tooltip='')\n",
    "        btn_add_to_cart = widgets.Button(description='Add to cart', disabled=False, button_style='info', tooltip='')\n",
    "        v_box = widgets.VBox([lbl_name, widgets.Box([btn_view, btn_add_to_cart])])\n",
    "        btn_view.parent = v_box\n",
    "        btn_add_to_cart.parent = v_box\n",
    "        btn_view.on_click(on_btn_view_click)\n",
    "        btn_add_to_cart.on_click(on_btn_cart_click)\n",
    "        boxes.append(v_box)\n",
    "        \n",
    "    grid_box_similar = widgets.GridBox(boxes, layout=widgets.Layout(grid_template_columns=\"repeat(3, 350px)\"))\n",
    "    grid_box_similar_products.append(grid_box_similar)\n",
    "    display(grid_box_similar)"
   ]
  },
  {
   "cell_type": "code",
   "execution_count": 25,
   "metadata": {},
   "outputs": [],
   "source": [
    "def show_recommended_products(interactions):\n",
    "    if len(lbl_recommended_products) > 0:\n",
    "        lbl_recommended_products[-1].close()\n",
    "        lbl_recommended_products.remove(lbl_recommended_products[-1])\n",
    "        grid_box_recommended_products[-1].close()\n",
    "        grid_box_recommended_products.remove(grid_box_recommended_products[-1])\n",
    "    \n",
    "    lbl_recommended = widgets.Label(value=\"Recommended products:\")\n",
    "    lbl_recommended_products.append(lbl_recommended)\n",
    "    display(lbl_recommended)\n",
    "    \n",
    "    interactions_enumerated = []\n",
    "    interactions_enumerated.append([products_to_int[prod] for prod in interactions])\n",
    "    results = []\n",
    "    \n",
    "    for i in range(5):\n",
    "        x = np.reshape(interactions_enumerated, (1, seq_length, 1))\n",
    "        prediction = lstm_model.predict(x, verbose=0)\n",
    "        index = np.argmax(prediction)\n",
    "        if (index not in interactions_enumerated[0]) and (int_to_products[index] not in interactions)\\\n",
    "                and (int_to_products[index] not in results):\n",
    "            results.append(int_to_products[index])\n",
    "            interactions_enumerated[0].append(index)\n",
    "            interactions_enumerated[0] = interactions_enumerated[0][1:len(interactions_enumerated[0])]\n",
    "    \n",
    "    boxes = []\n",
    "    for r in results:\n",
    "        lbl_name = widgets.Label(value=products_dict[r][0])\n",
    "        btn_view = widgets.Button(description='View', disabled=False, button_style='info', tooltip='')\n",
    "        btn_add_to_cart = widgets.Button(description='Add to cart', disabled=False, button_style='info', tooltip='')\n",
    "        v_box = widgets.VBox([lbl_name, widgets.Box([btn_view, btn_add_to_cart])])\n",
    "        btn_view.parent = v_box\n",
    "        btn_add_to_cart.parent = v_box\n",
    "        btn_view.on_click(on_btn_view_click)\n",
    "        btn_add_to_cart.on_click(on_btn_cart_click)\n",
    "        boxes.append(v_box)\n",
    "        \n",
    "    grid_box_recommended = widgets.GridBox(boxes, layout=widgets.Layout(grid_template_columns=\"repeat(3, 350px)\"))\n",
    "    grid_box_recommended_products.append(grid_box_recommended)\n",
    "    display(grid_box_recommended)"
   ]
  },
  {
   "cell_type": "code",
   "execution_count": 26,
   "metadata": {},
   "outputs": [],
   "source": [
    "def on_btn_cart_click(b):\n",
    "    n = int(btn_cart.description)\n",
    "    n += 1\n",
    "    btn_cart.description = str(n)\n",
    "    if ((len(interacted_with) == 0) or \n",
    "            ((len(interacted_with) > 0) and (interacted_with[-1] != product_names_dict[b.parent.children[0].value][0]))):\n",
    "        interacted_with.append(product_names_dict[b.parent.children[0].value][0])\n",
    "        get_and_show_recommendations(interacted_with[-1:])\n",
    "        show_similar_products(interacted_with)\n",
    "    \n",
    "        if len(interacted_with) >= 3:\n",
    "            show_recommended_products(interacted_with[-3:])"
   ]
  },
  {
   "cell_type": "code",
   "execution_count": 27,
   "metadata": {},
   "outputs": [],
   "source": [
    "def on_btn_view_click(b):\n",
    "    if ((len(interacted_with) == 0) or \n",
    "            ((len(interacted_with) > 0) and (interacted_with[-1] != product_names_dict[b.parent.children[0].value][0]))):\n",
    "        interacted_with.append(product_names_dict[b.parent.children[0].value][0])\n",
    "        get_and_show_recommendations(interacted_with[-1:])\n",
    "        show_similar_products(interacted_with)\n",
    "    \n",
    "        if len(interacted_with) >= 3:\n",
    "            show_recommended_products(interacted_with[-3:])"
   ]
  },
  {
   "cell_type": "code",
   "execution_count": 29,
   "metadata": {},
   "outputs": [
    {
     "data": {
      "application/vnd.jupyter.widget-view+json": {
       "model_id": "17f76a11ad154e34be030fe9e612542c",
       "version_major": 2,
       "version_minor": 0
      },
      "text/plain": [
       "Button(button_style='info', description='0', icon='shopping-cart', style=ButtonStyle())"
      ]
     },
     "metadata": {},
     "output_type": "display_data"
    },
    {
     "data": {
      "application/vnd.jupyter.widget-view+json": {
       "model_id": "f825c2dc7dff4092851680e54a6b1cc7",
       "version_major": 2,
       "version_minor": 0
      },
      "text/plain": [
       "GridBox(children=(VBox(children=(Label(value=\"PAPER CHAIN KIT 50'S CHRISTMAS \"), Box(children=(Button(button_s…"
      ]
     },
     "metadata": {},
     "output_type": "display_data"
    }
   ],
   "source": [
    "btn_cart = widgets.Button(\n",
    "    description='0',\n",
    "    disabled=False,\n",
    "    button_style='info',\n",
    "    tooltip='',\n",
    "    icon='shopping-cart'\n",
    ")\n",
    "display(btn_cart)\n",
    "\n",
    "boxes = []\n",
    "interacted_with = []\n",
    "prods_to_show = []\n",
    "for p in recent_products:\n",
    "    prods_to_show.append(p)\n",
    "for p in most_purchased[:20]:\n",
    "    if p not in prods_to_show:\n",
    "        prods_to_show.append(p)\n",
    "\n",
    "for p in prods_to_show:\n",
    "    btn_view = widgets.Button(description='View', disabled=False, button_style='info', tooltip='')\n",
    "    btn_add_to_cart = widgets.Button(description='Add to cart', disabled=False, button_style='info', tooltip='')\n",
    "    lbl_name = widgets.Label(products_dict[p][0])\n",
    "    v_box = widgets.VBox([lbl_name, widgets.Box([btn_view, btn_add_to_cart])])\n",
    "    btn_view.parent = v_box\n",
    "    btn_add_to_cart.parent = v_box\n",
    "    btn_view.on_click(on_btn_view_click)\n",
    "    btn_add_to_cart.on_click(on_btn_cart_click)\n",
    "    boxes.append(v_box)\n",
    "\n",
    "grid_box = widgets.GridBox(boxes, layout=widgets.Layout(grid_template_columns=\"repeat(2, 400px)\"))\n",
    "display(grid_box)\n",
    "\n",
    "lbl_frequently_bought = []\n",
    "grid_box_frequently_bought = []\n",
    "lbl_similar_products = []\n",
    "grid_box_similar_products = []\n",
    "lbl_recommended_products = []\n",
    "grid_box_recommended_products = []"
   ]
  }
 ],
 "metadata": {
  "kernelspec": {
   "display_name": "Python 3",
   "language": "python",
   "name": "python3"
  },
  "language_info": {
   "codemirror_mode": {
    "name": "ipython",
    "version": 3
   },
   "file_extension": ".py",
   "mimetype": "text/x-python",
   "name": "python",
   "nbconvert_exporter": "python",
   "pygments_lexer": "ipython3",
   "version": "3.6.2"
  }
 },
 "nbformat": 4,
 "nbformat_minor": 1
}
